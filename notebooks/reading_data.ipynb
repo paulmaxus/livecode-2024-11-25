{
 "cells": [
  {
   "cell_type": "code",
   "execution_count": 1,
   "id": "58bb081a-ea92-4648-a195-2bdf89535a0f",
   "metadata": {},
   "outputs": [],
   "source": [
    "# importing external functionality using libraries/modules"
   ]
  },
  {
   "cell_type": "code",
   "execution_count": null,
   "id": "4d7ab758-c430-422b-9e6d-9d0330cbbaa9",
   "metadata": {},
   "outputs": [],
   "source": [
    "imp"
   ]
  }
 ],
 "metadata": {
  "kernelspec": {
   "display_name": "Python 3 (ipykernel)",
   "language": "python",
   "name": "python3"
  },
  "language_info": {
   "codemirror_mode": {
    "name": "ipython",
    "version": 3
   },
   "file_extension": ".py",
   "mimetype": "text/x-python",
   "name": "python",
   "nbconvert_exporter": "python",
   "pygments_lexer": "ipython3",
   "version": "3.12.5"
  }
 },
 "nbformat": 4,
 "nbformat_minor": 5
}
