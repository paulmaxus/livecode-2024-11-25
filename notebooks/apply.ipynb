{
 "cells": [
  {
   "cell_type": "code",
   "execution_count": 1,
   "id": "5bc4c727-755d-4c80-bb79-7008ccd8f72f",
   "metadata": {},
   "outputs": [],
   "source": [
    "import pandas as pd"
   ]
  },
  {
   "cell_type": "code",
   "execution_count": 2,
   "id": "3765d0f4-7f31-4e58-9daf-41df4c416017",
   "metadata": {},
   "outputs": [],
   "source": [
    "s = pd.Series([1,2,3,4,5])"
   ]
  },
  {
   "cell_type": "code",
   "execution_count": 3,
   "id": "612e7185-748c-4029-a67b-6dc09041dc95",
   "metadata": {},
   "outputs": [
    {
     "name": "stdout",
     "output_type": "stream",
     "text": [
      "3.0\n"
     ]
    }
   ],
   "source": [
    "print(s.mean())"
   ]
  },
  {
   "cell_type": "code",
   "execution_count": 4,
   "id": "59df3139-8424-4d12-b00f-647c75ed0847",
   "metadata": {},
   "outputs": [],
   "source": [
    "def mean(values):\n",
    "    total = 0\n",
    "    for value in values:\n",
    "        total = total + value\n",
    "    \n",
    "    return total/len(values)"
   ]
  },
  {
   "cell_type": "code",
   "execution_count": 5,
   "id": "79e5d12d-033c-43b6-bb53-23fb8a038186",
   "metadata": {},
   "outputs": [
    {
     "data": {
      "text/plain": [
       "3.0"
      ]
     },
     "execution_count": 5,
     "metadata": {},
     "output_type": "execute_result"
    }
   ],
   "source": [
    "mean(s)"
   ]
  },
  {
   "cell_type": "code",
   "execution_count": 6,
   "id": "5395d123-bfc0-4484-bcf1-b214317f7e6a",
   "metadata": {},
   "outputs": [
    {
     "data": {
      "text/plain": [
       "3.0"
      ]
     },
     "execution_count": 6,
     "metadata": {},
     "output_type": "execute_result"
    }
   ],
   "source": [
    "s.apply(mean, by_row=False)"
   ]
  }
 ],
 "metadata": {
  "kernelspec": {
   "display_name": "Python 3 (ipykernel)",
   "language": "python",
   "name": "python3"
  },
  "language_info": {
   "codemirror_mode": {
    "name": "ipython",
    "version": 3
   },
   "file_extension": ".py",
   "mimetype": "text/x-python",
   "name": "python",
   "nbconvert_exporter": "python",
   "pygments_lexer": "ipython3",
   "version": "3.12.5"
  }
 },
 "nbformat": 4,
 "nbformat_minor": 5
}
