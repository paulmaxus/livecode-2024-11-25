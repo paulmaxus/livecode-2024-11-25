{
 "cells": [
  {
   "cell_type": "markdown",
   "id": "c66bd4f4-1470-497a-abe1-1d4a89630660",
   "metadata": {},
   "source": [
    "# Lists\n",
    "multiple variables"
   ]
  },
  {
   "cell_type": "code",
   "execution_count": null,
   "id": "0b10c0b6-42d2-4e30-a292-449083aa455b",
   "metadata": {},
   "outputs": [],
   "source": [
    "age_1 = 35\n",
    "age_2 = 45\n",
    "age_4 = 35\n",
    "#etc"
   ]
  },
  {
   "cell_type": "code",
   "execution_count": null,
   "id": "1c1bdc4a-0a25-4fea-bb43-5a4cba46a5bc",
   "metadata": {},
   "outputs": [],
   "source": []
  }
 ],
 "metadata": {
  "kernelspec": {
   "display_name": "Python 3 (ipykernel)",
   "language": "python",
   "name": "python3"
  },
  "language_info": {
   "codemirror_mode": {
    "name": "ipython",
    "version": 3
   },
   "file_extension": ".py",
   "mimetype": "text/x-python",
   "name": "python",
   "nbconvert_exporter": "python",
   "pygments_lexer": "ipython3",
   "version": "3.12.5"
  }
 },
 "nbformat": 4,
 "nbformat_minor": 5
}
