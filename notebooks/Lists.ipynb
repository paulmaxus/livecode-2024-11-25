{
 "cells": [
  {
   "cell_type": "markdown",
   "id": "c66bd4f4-1470-497a-abe1-1d4a89630660",
   "metadata": {},
   "source": [
    "# Lists\n",
    "multiple variables"
   ]
  },
  {
   "cell_type": "code",
   "execution_count": null,
   "id": "0b10c0b6-42d2-4e30-a292-449083aa455b",
   "metadata": {},
   "outputs": [],
   "source": [
    "age_1 = 35\n",
    "age_2 = 45\n",
    "age_4 = 35\n",
    "#etc"
   ]
  },
  {
   "cell_type": "code",
   "execution_count": 3,
   "id": "1c1bdc4a-0a25-4fea-bb43-5a4cba46a5bc",
   "metadata": {},
   "outputs": [],
   "source": [
    "all_ages = [35, 45, 67, 100, 9]"
   ]
  },
  {
   "cell_type": "code",
   "execution_count": 4,
   "id": "bb803d64-0926-40fb-9880-ed724cf70ed1",
   "metadata": {},
   "outputs": [
    {
     "name": "stdout",
     "output_type": "stream",
     "text": [
      "[35, 45, 67, 100, 9]\n"
     ]
    }
   ],
   "source": [
    "print(all_ages)"
   ]
  },
  {
   "cell_type": "code",
   "execution_count": 5,
   "id": "254dde56-9332-4a8d-8999-8eaf6f3783e1",
   "metadata": {},
   "outputs": [
    {
     "data": {
      "text/plain": [
       "5"
      ]
     },
     "execution_count": 5,
     "metadata": {},
     "output_type": "execute_result"
    }
   ],
   "source": [
    "len(all_ages)"
   ]
  },
  {
   "cell_type": "code",
   "execution_count": 6,
   "id": "fbe53dae-3939-43b7-b299-50b4dcbd5d64",
   "metadata": {},
   "outputs": [
    {
     "name": "stdout",
     "output_type": "stream",
     "text": [
      "35\n"
     ]
    }
   ],
   "source": [
    "print(all_ages[0])"
   ]
  },
  {
   "cell_type": "code",
   "execution_count": 7,
   "id": "67e6a6f9-576a-4944-9224-151ec5d1ba7a",
   "metadata": {},
   "outputs": [
    {
     "name": "stdout",
     "output_type": "stream",
     "text": [
      "9\n"
     ]
    }
   ],
   "source": [
    "print(all_ages[4])"
   ]
  },
  {
   "cell_type": "code",
   "execution_count": 8,
   "id": "fd8f2905-f9b7-4692-8712-cda4d3d100ea",
   "metadata": {},
   "outputs": [],
   "source": [
    "all_ages[0] = 36"
   ]
  },
  {
   "cell_type": "code",
   "execution_count": 9,
   "id": "53d3dfbb-2e09-4269-bcf4-8f176897c855",
   "metadata": {},
   "outputs": [
    {
     "name": "stdout",
     "output_type": "stream",
     "text": [
      "[36, 45, 67, 100, 9]\n"
     ]
    }
   ],
   "source": [
    "print(all_ages)"
   ]
  },
  {
   "cell_type": "code",
   "execution_count": 10,
   "id": "8c9ed755-d07e-4634-a7b8-5d5a2745688b",
   "metadata": {},
   "outputs": [
    {
     "ename": "IndexError",
     "evalue": "list index out of range",
     "output_type": "error",
     "traceback": [
      "\u001b[1;31m---------------------------------------------------------------------------\u001b[0m",
      "\u001b[1;31mIndexError\u001b[0m                                Traceback (most recent call last)",
      "Cell \u001b[1;32mIn[10], line 1\u001b[0m\n\u001b[1;32m----> 1\u001b[0m \u001b[38;5;28mprint\u001b[39m(\u001b[43mall_ages\u001b[49m\u001b[43m[\u001b[49m\u001b[38;5;241;43m5\u001b[39;49m\u001b[43m]\u001b[49m)\n",
      "\u001b[1;31mIndexError\u001b[0m: list index out of range"
     ]
    }
   ],
   "source": [
    "print(all_ages[5]) # will raise error"
   ]
  },
  {
   "cell_type": "code",
   "execution_count": 11,
   "id": "3313c4e5-73c9-46b0-a4cb-460eb6e81307",
   "metadata": {},
   "outputs": [],
   "source": [
    "all_ages[0] = 35"
   ]
  },
  {
   "cell_type": "code",
   "execution_count": 12,
   "id": "51f4417f-9108-4d4d-bc22-03cc2b857adb",
   "metadata": {},
   "outputs": [
    {
     "name": "stdout",
     "output_type": "stream",
     "text": [
      "[35, 45, 67, 100, 9]\n"
     ]
    }
   ],
   "source": [
    "print(all_ages)"
   ]
  },
  {
   "cell_type": "code",
   "execution_count": 13,
   "id": "59defece-c247-4b34-bb18-c9ca9e62c24c",
   "metadata": {},
   "outputs": [],
   "source": [
    "empty_list = []"
   ]
  },
  {
   "cell_type": "code",
   "execution_count": 14,
   "id": "baacf96e-fb09-49d2-ada6-9980c43e9bf2",
   "metadata": {},
   "outputs": [
    {
     "name": "stdout",
     "output_type": "stream",
     "text": [
      "[]\n"
     ]
    }
   ],
   "source": [
    "print(empty_list)"
   ]
  },
  {
   "cell_type": "code",
   "execution_count": 15,
   "id": "52d451ef-3b2a-4a55-8587-bcccedfec9e4",
   "metadata": {},
   "outputs": [
    {
     "name": "stdout",
     "output_type": "stream",
     "text": [
      "0\n"
     ]
    }
   ],
   "source": [
    "print(len(empty_list))"
   ]
  },
  {
   "cell_type": "code",
   "execution_count": 16,
   "id": "ddb51283-ea5b-4aaf-97ef-40c2532bcca7",
   "metadata": {},
   "outputs": [],
   "source": [
    "all_ages = [45, 23, 76]"
   ]
  },
  {
   "cell_type": "code",
   "execution_count": 17,
   "id": "7b32745c-6457-4bcf-a598-b1f549d26a10",
   "metadata": {},
   "outputs": [],
   "source": [
    "all_ages.append(52)"
   ]
  },
  {
   "cell_type": "code",
   "execution_count": 18,
   "id": "8a43db65-c6dd-4060-87a1-c772a8f90794",
   "metadata": {},
   "outputs": [
    {
     "name": "stdout",
     "output_type": "stream",
     "text": [
      "[45, 23, 76, 52]\n"
     ]
    }
   ],
   "source": [
    "print(all_ages)"
   ]
  },
  {
   "cell_type": "code",
   "execution_count": 19,
   "id": "9939aff0-e67d-4c89-a0a2-f7d4c46bb6fe",
   "metadata": {},
   "outputs": [],
   "source": [
    "all_ages.append(65)"
   ]
  },
  {
   "cell_type": "code",
   "execution_count": 20,
   "id": "c8548516-497e-401f-a0d3-a05a430d45c9",
   "metadata": {},
   "outputs": [
    {
     "name": "stdout",
     "output_type": "stream",
     "text": [
      "[45, 23, 76, 52, 65]\n"
     ]
    }
   ],
   "source": [
    "print(all_ages)"
   ]
  },
  {
   "cell_type": "code",
   "execution_count": 21,
   "id": "b8bf41d2-80c3-4d6b-be56-65eb02ba564d",
   "metadata": {},
   "outputs": [
    {
     "data": {
      "text/plain": [
       "5"
      ]
     },
     "execution_count": 21,
     "metadata": {},
     "output_type": "execute_result"
    }
   ],
   "source": [
    "len(all_ages)"
   ]
  },
  {
   "cell_type": "code",
   "execution_count": 22,
   "id": "03f23f0e-ddb8-4bd8-a11b-3ad3601ba7aa",
   "metadata": {},
   "outputs": [
    {
     "data": {
      "text/plain": [
       "list"
      ]
     },
     "execution_count": 22,
     "metadata": {},
     "output_type": "execute_result"
    }
   ],
   "source": [
    "type(all_ages)"
   ]
  },
  {
   "cell_type": "code",
   "execution_count": 24,
   "id": "1e867368-a1b9-4fea-bb81-e305533020ca",
   "metadata": {},
   "outputs": [
    {
     "name": "stdout",
     "output_type": "stream",
     "text": [
      "[45, 23, 76, 52, 65]\n"
     ]
    }
   ],
   "source": [
    "print(all_ages)"
   ]
  },
  {
   "cell_type": "code",
   "execution_count": 30,
   "id": "87431a43-1981-44c6-8130-ab78a5196c5e",
   "metadata": {},
   "outputs": [],
   "source": [
    "all_ages = [45, 23, 76]\n"
   ]
  },
  {
   "cell_type": "code",
   "execution_count": 28,
   "id": "bf53d0a2-a957-4839-a77d-f86b779f4bb9",
   "metadata": {},
   "outputs": [],
   "source": [
    "all_ages.append(65)"
   ]
  },
  {
   "cell_type": "code",
   "execution_count": 31,
   "id": "cc32a033-33b9-41c5-8fcd-cde8c783e69d",
   "metadata": {},
   "outputs": [
    {
     "name": "stdout",
     "output_type": "stream",
     "text": [
      "[45, 23, 76]\n"
     ]
    }
   ],
   "source": [
    "print(all_ages)"
   ]
  },
  {
   "cell_type": "code",
   "execution_count": 34,
   "id": "4a9fe251-d8a3-44fe-a1e1-1f76bfffdd62",
   "metadata": {},
   "outputs": [],
   "source": [
    "all_ages = [54, 23, 68]"
   ]
  },
  {
   "cell_type": "code",
   "execution_count": 35,
   "id": "7493ff51-920c-4fdf-8469-4f4883fdc23b",
   "metadata": {},
   "outputs": [
    {
     "name": "stdout",
     "output_type": "stream",
     "text": [
      "[54, 23, 68]\n"
     ]
    }
   ],
   "source": [
    "print(all_ages)"
   ]
  },
  {
   "cell_type": "code",
   "execution_count": 36,
   "id": "38cd0f0f-6505-4434-878f-85c379821aa2",
   "metadata": {},
   "outputs": [],
   "source": [
    "del all_ages[0]"
   ]
  },
  {
   "cell_type": "code",
   "execution_count": 37,
   "id": "6eef55c4-3b82-4428-a662-e0218e5de7c3",
   "metadata": {},
   "outputs": [
    {
     "name": "stdout",
     "output_type": "stream",
     "text": [
      "[23, 68]\n"
     ]
    }
   ],
   "source": [
    "print(all_ages)"
   ]
  },
  {
   "cell_type": "code",
   "execution_count": 38,
   "id": "56ea6db2-73a8-4f5f-9713-646a66caee7d",
   "metadata": {},
   "outputs": [],
   "source": [
    "del all_ages[0]"
   ]
  },
  {
   "cell_type": "code",
   "execution_count": 39,
   "id": "cb44f85b-ae7d-478a-bb72-71f165efa281",
   "metadata": {},
   "outputs": [
    {
     "name": "stdout",
     "output_type": "stream",
     "text": [
      "[68]\n"
     ]
    }
   ],
   "source": [
    "print(all_ages)"
   ]
  },
  {
   "cell_type": "code",
   "execution_count": 40,
   "id": "3be37ba4-321b-45cf-8ed6-a69693abc12e",
   "metadata": {},
   "outputs": [],
   "source": [
    "all_ages = [56, 75, 23]"
   ]
  },
  {
   "cell_type": "code",
   "execution_count": 41,
   "id": "1f4b5ba1-17dd-428a-af45-4a2add77aa59",
   "metadata": {},
   "outputs": [],
   "source": [
    "del all_ages[2]"
   ]
  },
  {
   "cell_type": "code",
   "execution_count": 42,
   "id": "b8d682aa-bbe2-4ea0-a008-e05055d22582",
   "metadata": {},
   "outputs": [
    {
     "name": "stdout",
     "output_type": "stream",
     "text": [
      "[56, 75]\n"
     ]
    }
   ],
   "source": [
    "print(all_ages)"
   ]
  },
  {
   "cell_type": "code",
   "execution_count": 43,
   "id": "ade16d97-54ba-4104-825b-64c972338498",
   "metadata": {},
   "outputs": [
    {
     "ename": "IndexError",
     "evalue": "list assignment index out of range",
     "output_type": "error",
     "traceback": [
      "\u001b[1;31m---------------------------------------------------------------------------\u001b[0m",
      "\u001b[1;31mIndexError\u001b[0m                                Traceback (most recent call last)",
      "Cell \u001b[1;32mIn[43], line 1\u001b[0m\n\u001b[1;32m----> 1\u001b[0m \u001b[38;5;28;01mdel\u001b[39;00m \u001b[43mall_ages\u001b[49m\u001b[43m[\u001b[49m\u001b[38;5;241;43m2\u001b[39;49m\u001b[43m]\u001b[49m\n",
      "\u001b[1;31mIndexError\u001b[0m: list assignment index out of range"
     ]
    }
   ],
   "source": [
    "del all_ages[2] # raises error"
   ]
  },
  {
   "cell_type": "code",
   "execution_count": 44,
   "id": "e7a8d4b0-9f04-449a-81cb-91c9a1f5aba9",
   "metadata": {},
   "outputs": [],
   "source": [
    "all_names = [\"Julian Evans\", \"Ruben\", \"Riane\"]"
   ]
  },
  {
   "cell_type": "code",
   "execution_count": 45,
   "id": "695aec64-08c1-4240-a96d-781f13612617",
   "metadata": {},
   "outputs": [
    {
     "name": "stdout",
     "output_type": "stream",
     "text": [
      "['Julian Evans', 'Ruben', 'Riane']\n"
     ]
    }
   ],
   "source": [
    "print(all_names)"
   ]
  },
  {
   "cell_type": "code",
   "execution_count": 46,
   "id": "9ac90dac-8c9d-4008-a511-2495fe739f8e",
   "metadata": {},
   "outputs": [
    {
     "data": {
      "text/plain": [
       "str"
      ]
     },
     "execution_count": 46,
     "metadata": {},
     "output_type": "execute_result"
    }
   ],
   "source": [
    "type(all_names[1])"
   ]
  },
  {
   "cell_type": "code",
   "execution_count": 47,
   "id": "1a2cbc5a-5da9-434b-8eab-526ef347a4a7",
   "metadata": {},
   "outputs": [],
   "source": [
    "mix_list = [\"Julian\", 36, 67.2]"
   ]
  },
  {
   "cell_type": "code",
   "execution_count": 48,
   "id": "0a8bed3b-b471-4e64-8204-b897d06b7cdb",
   "metadata": {},
   "outputs": [
    {
     "name": "stdout",
     "output_type": "stream",
     "text": [
      "['Julian', 36, 67.2]\n"
     ]
    }
   ],
   "source": [
    "print(mix_list)"
   ]
  },
  {
   "cell_type": "code",
   "execution_count": 49,
   "id": "9ef22d52-296a-47c4-8860-cecb7d35cc62",
   "metadata": {},
   "outputs": [
    {
     "data": {
      "text/plain": [
       "str"
      ]
     },
     "execution_count": 49,
     "metadata": {},
     "output_type": "execute_result"
    }
   ],
   "source": [
    "type(mix_list[0])"
   ]
  },
  {
   "cell_type": "code",
   "execution_count": 50,
   "id": "3e1e0a90-5b74-498c-a893-1cb7e8833064",
   "metadata": {},
   "outputs": [
    {
     "data": {
      "text/plain": [
       "int"
      ]
     },
     "execution_count": 50,
     "metadata": {},
     "output_type": "execute_result"
    }
   ],
   "source": [
    "type(mix_list[1])"
   ]
  },
  {
   "cell_type": "code",
   "execution_count": 51,
   "id": "4d780090-2939-45d1-ad6a-20422d8466e8",
   "metadata": {},
   "outputs": [],
   "source": [
    "mix_list[1] = \"Ruben\""
   ]
  },
  {
   "cell_type": "code",
   "execution_count": 52,
   "id": "5102260c-af07-47ca-b23c-d5595ed98268",
   "metadata": {},
   "outputs": [],
   "source": [
    "my_name = \"Julian\""
   ]
  },
  {
   "cell_type": "code",
   "execution_count": 54,
   "id": "09b9ec72-4f37-413a-a2f7-e763c93b6848",
   "metadata": {},
   "outputs": [
    {
     "data": {
      "text/plain": [
       "'J'"
      ]
     },
     "execution_count": 54,
     "metadata": {},
     "output_type": "execute_result"
    }
   ],
   "source": [
    "my_name[0]"
   ]
  },
  {
   "cell_type": "code",
   "execution_count": 55,
   "id": "c77122ac-c8b9-41de-b9c1-e6d9714e0a55",
   "metadata": {},
   "outputs": [
    {
     "ename": "TypeError",
     "evalue": "'str' object does not support item assignment",
     "output_type": "error",
     "traceback": [
      "\u001b[1;31m---------------------------------------------------------------------------\u001b[0m",
      "\u001b[1;31mTypeError\u001b[0m                                 Traceback (most recent call last)",
      "Cell \u001b[1;32mIn[55], line 1\u001b[0m\n\u001b[1;32m----> 1\u001b[0m \u001b[43mmy_name\u001b[49m\u001b[43m[\u001b[49m\u001b[38;5;241;43m0\u001b[39;49m\u001b[43m]\u001b[49m \u001b[38;5;241m=\u001b[39m \u001b[38;5;124m\"\u001b[39m\u001b[38;5;124mH\u001b[39m\u001b[38;5;124m\"\u001b[39m\n",
      "\u001b[1;31mTypeError\u001b[0m: 'str' object does not support item assignment"
     ]
    }
   ],
   "source": [
    "my_name[0] = \"H\" #raises error"
   ]
  },
  {
   "cell_type": "code",
   "execution_count": 56,
   "id": "3a6cc14b-ac3f-4f1d-85d2-bfb6ca3d1d3f",
   "metadata": {},
   "outputs": [],
   "source": [
    "element = 'helium'"
   ]
  },
  {
   "cell_type": "code",
   "execution_count": 57,
   "id": "d19880e1-3bf3-413f-8e14-90f1e3b2cc2e",
   "metadata": {},
   "outputs": [
    {
     "name": "stdout",
     "output_type": "stream",
     "text": [
      "m\n"
     ]
    }
   ],
   "source": [
    "print(element[-1])"
   ]
  },
  {
   "cell_type": "code",
   "execution_count": null,
   "id": "b37b617f-38e5-42e7-9e96-2a54db0aeb8f",
   "metadata": {},
   "outputs": [],
   "source": [
    "# Using negative indexing, \n",
    "# how would you get the i from helium?\n"
   ]
  }
 ],
 "metadata": {
  "kernelspec": {
   "display_name": "Python 3 (ipykernel)",
   "language": "python",
   "name": "python3"
  },
  "language_info": {
   "codemirror_mode": {
    "name": "ipython",
    "version": 3
   },
   "file_extension": ".py",
   "mimetype": "text/x-python",
   "name": "python",
   "nbconvert_exporter": "python",
   "pygments_lexer": "ipython3",
   "version": "3.12.5"
  }
 },
 "nbformat": 4,
 "nbformat_minor": 5
}
