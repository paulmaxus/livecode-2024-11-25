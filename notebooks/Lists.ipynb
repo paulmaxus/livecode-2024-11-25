{
 "cells": [
  {
   "cell_type": "markdown",
   "id": "c66bd4f4-1470-497a-abe1-1d4a89630660",
   "metadata": {},
   "source": [
    "# Lists\n",
    "multiple variables"
   ]
  },
  {
   "cell_type": "code",
   "execution_count": null,
   "id": "0b10c0b6-42d2-4e30-a292-449083aa455b",
   "metadata": {},
   "outputs": [],
   "source": [
    "age_1 = 35\n",
    "age_2 = 45\n",
    "age_4 = 35\n",
    "#etc"
   ]
  },
  {
   "cell_type": "code",
   "execution_count": 3,
   "id": "1c1bdc4a-0a25-4fea-bb43-5a4cba46a5bc",
   "metadata": {},
   "outputs": [],
   "source": [
    "all_ages = [35, 45, 67, 100, 9]"
   ]
  },
  {
   "cell_type": "code",
   "execution_count": 4,
   "id": "bb803d64-0926-40fb-9880-ed724cf70ed1",
   "metadata": {},
   "outputs": [
    {
     "name": "stdout",
     "output_type": "stream",
     "text": [
      "[35, 45, 67, 100, 9]\n"
     ]
    }
   ],
   "source": [
    "print(all_ages)"
   ]
  },
  {
   "cell_type": "code",
   "execution_count": 5,
   "id": "254dde56-9332-4a8d-8999-8eaf6f3783e1",
   "metadata": {},
   "outputs": [
    {
     "data": {
      "text/plain": [
       "5"
      ]
     },
     "execution_count": 5,
     "metadata": {},
     "output_type": "execute_result"
    }
   ],
   "source": [
    "len(all_ages)"
   ]
  },
  {
   "cell_type": "code",
   "execution_count": 6,
   "id": "fbe53dae-3939-43b7-b299-50b4dcbd5d64",
   "metadata": {},
   "outputs": [
    {
     "name": "stdout",
     "output_type": "stream",
     "text": [
      "35\n"
     ]
    }
   ],
   "source": [
    "print(all_ages[0])"
   ]
  },
  {
   "cell_type": "code",
   "execution_count": 7,
   "id": "67e6a6f9-576a-4944-9224-151ec5d1ba7a",
   "metadata": {},
   "outputs": [
    {
     "name": "stdout",
     "output_type": "stream",
     "text": [
      "9\n"
     ]
    }
   ],
   "source": [
    "print(all_ages[4])"
   ]
  },
  {
   "cell_type": "code",
   "execution_count": 8,
   "id": "fd8f2905-f9b7-4692-8712-cda4d3d100ea",
   "metadata": {},
   "outputs": [],
   "source": [
    "all_ages[0] = 36"
   ]
  },
  {
   "cell_type": "code",
   "execution_count": 9,
   "id": "53d3dfbb-2e09-4269-bcf4-8f176897c855",
   "metadata": {},
   "outputs": [
    {
     "name": "stdout",
     "output_type": "stream",
     "text": [
      "[36, 45, 67, 100, 9]\n"
     ]
    }
   ],
   "source": [
    "print(all_ages)"
   ]
  },
  {
   "cell_type": "code",
   "execution_count": 10,
   "id": "8c9ed755-d07e-4634-a7b8-5d5a2745688b",
   "metadata": {},
   "outputs": [
    {
     "ename": "IndexError",
     "evalue": "list index out of range",
     "output_type": "error",
     "traceback": [
      "\u001b[1;31m---------------------------------------------------------------------------\u001b[0m",
      "\u001b[1;31mIndexError\u001b[0m                                Traceback (most recent call last)",
      "Cell \u001b[1;32mIn[10], line 1\u001b[0m\n\u001b[1;32m----> 1\u001b[0m \u001b[38;5;28mprint\u001b[39m(\u001b[43mall_ages\u001b[49m\u001b[43m[\u001b[49m\u001b[38;5;241;43m5\u001b[39;49m\u001b[43m]\u001b[49m)\n",
      "\u001b[1;31mIndexError\u001b[0m: list index out of range"
     ]
    }
   ],
   "source": [
    "print(all_ages[5]) # will raise error"
   ]
  },
  {
   "cell_type": "code",
   "execution_count": 11,
   "id": "3313c4e5-73c9-46b0-a4cb-460eb6e81307",
   "metadata": {},
   "outputs": [],
   "source": [
    "all_ages[0] = 35"
   ]
  },
  {
   "cell_type": "code",
   "execution_count": 12,
   "id": "51f4417f-9108-4d4d-bc22-03cc2b857adb",
   "metadata": {},
   "outputs": [
    {
     "name": "stdout",
     "output_type": "stream",
     "text": [
      "[35, 45, 67, 100, 9]\n"
     ]
    }
   ],
   "source": [
    "print(all_ages)"
   ]
  },
  {
   "cell_type": "code",
   "execution_count": 13,
   "id": "59defece-c247-4b34-bb18-c9ca9e62c24c",
   "metadata": {},
   "outputs": [],
   "source": [
    "empty_list = []"
   ]
  },
  {
   "cell_type": "code",
   "execution_count": 14,
   "id": "baacf96e-fb09-49d2-ada6-9980c43e9bf2",
   "metadata": {},
   "outputs": [
    {
     "name": "stdout",
     "output_type": "stream",
     "text": [
      "[]\n"
     ]
    }
   ],
   "source": [
    "print(empty_list)"
   ]
  },
  {
   "cell_type": "code",
   "execution_count": 15,
   "id": "52d451ef-3b2a-4a55-8587-bcccedfec9e4",
   "metadata": {},
   "outputs": [
    {
     "name": "stdout",
     "output_type": "stream",
     "text": [
      "0\n"
     ]
    }
   ],
   "source": [
    "print(len(empty_list))"
   ]
  },
  {
   "cell_type": "code",
   "execution_count": 16,
   "id": "ddb51283-ea5b-4aaf-97ef-40c2532bcca7",
   "metadata": {},
   "outputs": [],
   "source": [
    "all_ages = [45, 23, 76]"
   ]
  },
  {
   "cell_type": "code",
   "execution_count": 17,
   "id": "7b32745c-6457-4bcf-a598-b1f549d26a10",
   "metadata": {},
   "outputs": [],
   "source": [
    "all_ages.append(52)"
   ]
  },
  {
   "cell_type": "code",
   "execution_count": 18,
   "id": "8a43db65-c6dd-4060-87a1-c772a8f90794",
   "metadata": {},
   "outputs": [
    {
     "name": "stdout",
     "output_type": "stream",
     "text": [
      "[45, 23, 76, 52]\n"
     ]
    }
   ],
   "source": [
    "print(all_ages)"
   ]
  },
  {
   "cell_type": "code",
   "execution_count": 19,
   "id": "9939aff0-e67d-4c89-a0a2-f7d4c46bb6fe",
   "metadata": {},
   "outputs": [],
   "source": [
    "all_ages.append(65)"
   ]
  },
  {
   "cell_type": "code",
   "execution_count": 20,
   "id": "c8548516-497e-401f-a0d3-a05a430d45c9",
   "metadata": {},
   "outputs": [
    {
     "name": "stdout",
     "output_type": "stream",
     "text": [
      "[45, 23, 76, 52, 65]\n"
     ]
    }
   ],
   "source": [
    "print(all_ages)"
   ]
  },
  {
   "cell_type": "code",
   "execution_count": 21,
   "id": "b8bf41d2-80c3-4d6b-be56-65eb02ba564d",
   "metadata": {},
   "outputs": [
    {
     "data": {
      "text/plain": [
       "5"
      ]
     },
     "execution_count": 21,
     "metadata": {},
     "output_type": "execute_result"
    }
   ],
   "source": [
    "len(all_ages)"
   ]
  },
  {
   "cell_type": "code",
   "execution_count": 22,
   "id": "03f23f0e-ddb8-4bd8-a11b-3ad3601ba7aa",
   "metadata": {},
   "outputs": [
    {
     "data": {
      "text/plain": [
       "list"
      ]
     },
     "execution_count": 22,
     "metadata": {},
     "output_type": "execute_result"
    }
   ],
   "source": [
    "type(all_ages)"
   ]
  },
  {
   "cell_type": "code",
   "execution_count": 23,
   "id": "d42ae8ae-d044-4269-aab2-ad426caddcc7",
   "metadata": {},
   "outputs": [
    {
     "name": "stdout",
     "output_type": "stream",
     "text": [
      "Help on class list in module builtins:\n",
      "\n",
      "class list(object)\n",
      " |  list(iterable=(), /)\n",
      " |\n",
      " |  Built-in mutable sequence.\n",
      " |\n",
      " |  If no argument is given, the constructor creates a new empty list.\n",
      " |  The argument must be an iterable if specified.\n",
      " |\n",
      " |  Methods defined here:\n",
      " |\n",
      " |  __add__(self, value, /)\n",
      " |      Return self+value.\n",
      " |\n",
      " |  __contains__(self, key, /)\n",
      " |      Return bool(key in self).\n",
      " |\n",
      " |  __delitem__(self, key, /)\n",
      " |      Delete self[key].\n",
      " |\n",
      " |  __eq__(self, value, /)\n",
      " |      Return self==value.\n",
      " |\n",
      " |  __ge__(self, value, /)\n",
      " |      Return self>=value.\n",
      " |\n",
      " |  __getattribute__(self, name, /)\n",
      " |      Return getattr(self, name).\n",
      " |\n",
      " |  __getitem__(self, index, /)\n",
      " |      Return self[index].\n",
      " |\n",
      " |  __gt__(self, value, /)\n",
      " |      Return self>value.\n",
      " |\n",
      " |  __iadd__(self, value, /)\n",
      " |      Implement self+=value.\n",
      " |\n",
      " |  __imul__(self, value, /)\n",
      " |      Implement self*=value.\n",
      " |\n",
      " |  __init__(self, /, *args, **kwargs)\n",
      " |      Initialize self.  See help(type(self)) for accurate signature.\n",
      " |\n",
      " |  __iter__(self, /)\n",
      " |      Implement iter(self).\n",
      " |\n",
      " |  __le__(self, value, /)\n",
      " |      Return self<=value.\n",
      " |\n",
      " |  __len__(self, /)\n",
      " |      Return len(self).\n",
      " |\n",
      " |  __lt__(self, value, /)\n",
      " |      Return self<value.\n",
      " |\n",
      " |  __mul__(self, value, /)\n",
      " |      Return self*value.\n",
      " |\n",
      " |  __ne__(self, value, /)\n",
      " |      Return self!=value.\n",
      " |\n",
      " |  __repr__(self, /)\n",
      " |      Return repr(self).\n",
      " |\n",
      " |  __reversed__(self, /)\n",
      " |      Return a reverse iterator over the list.\n",
      " |\n",
      " |  __rmul__(self, value, /)\n",
      " |      Return value*self.\n",
      " |\n",
      " |  __setitem__(self, key, value, /)\n",
      " |      Set self[key] to value.\n",
      " |\n",
      " |  __sizeof__(self, /)\n",
      " |      Return the size of the list in memory, in bytes.\n",
      " |\n",
      " |  append(self, object, /)\n",
      " |      Append object to the end of the list.\n",
      " |\n",
      " |  clear(self, /)\n",
      " |      Remove all items from list.\n",
      " |\n",
      " |  copy(self, /)\n",
      " |      Return a shallow copy of the list.\n",
      " |\n",
      " |  count(self, value, /)\n",
      " |      Return number of occurrences of value.\n",
      " |\n",
      " |  extend(self, iterable, /)\n",
      " |      Extend list by appending elements from the iterable.\n",
      " |\n",
      " |  index(self, value, start=0, stop=9223372036854775807, /)\n",
      " |      Return first index of value.\n",
      " |\n",
      " |      Raises ValueError if the value is not present.\n",
      " |\n",
      " |  insert(self, index, object, /)\n",
      " |      Insert object before index.\n",
      " |\n",
      " |  pop(self, index=-1, /)\n",
      " |      Remove and return item at index (default last).\n",
      " |\n",
      " |      Raises IndexError if list is empty or index is out of range.\n",
      " |\n",
      " |  remove(self, value, /)\n",
      " |      Remove first occurrence of value.\n",
      " |\n",
      " |      Raises ValueError if the value is not present.\n",
      " |\n",
      " |  reverse(self, /)\n",
      " |      Reverse *IN PLACE*.\n",
      " |\n",
      " |  sort(self, /, *, key=None, reverse=False)\n",
      " |      Sort the list in ascending order and return None.\n",
      " |\n",
      " |      The sort is in-place (i.e. the list itself is modified) and stable (i.e. the\n",
      " |      order of two equal elements is maintained).\n",
      " |\n",
      " |      If a key function is given, apply it once to each list item and sort them,\n",
      " |      ascending or descending, according to their function values.\n",
      " |\n",
      " |      The reverse flag can be set to sort in descending order.\n",
      " |\n",
      " |  ----------------------------------------------------------------------\n",
      " |  Class methods defined here:\n",
      " |\n",
      " |  __class_getitem__(...)\n",
      " |      See PEP 585\n",
      " |\n",
      " |  ----------------------------------------------------------------------\n",
      " |  Static methods defined here:\n",
      " |\n",
      " |  __new__(*args, **kwargs)\n",
      " |      Create and return a new object.  See help(type) for accurate signature.\n",
      " |\n",
      " |  ----------------------------------------------------------------------\n",
      " |  Data and other attributes defined here:\n",
      " |\n",
      " |  __hash__ = None\n",
      "\n"
     ]
    }
   ],
   "source": [
    "help(list)"
   ]
  },
  {
   "cell_type": "code",
   "execution_count": 24,
   "id": "1e867368-a1b9-4fea-bb81-e305533020ca",
   "metadata": {},
   "outputs": [
    {
     "name": "stdout",
     "output_type": "stream",
     "text": [
      "[45, 23, 76, 52, 65]\n"
     ]
    }
   ],
   "source": [
    "print(all_ages)"
   ]
  },
  {
   "cell_type": "code",
   "execution_count": 30,
   "id": "87431a43-1981-44c6-8130-ab78a5196c5e",
   "metadata": {},
   "outputs": [],
   "source": [
    "all_ages = [45, 23, 76]\n"
   ]
  },
  {
   "cell_type": "code",
   "execution_count": 28,
   "id": "bf53d0a2-a957-4839-a77d-f86b779f4bb9",
   "metadata": {},
   "outputs": [],
   "source": [
    "all_ages.append(65)"
   ]
  },
  {
   "cell_type": "code",
   "execution_count": 29,
   "id": "cc32a033-33b9-41c5-8fcd-cde8c783e69d",
   "metadata": {},
   "outputs": [
    {
     "name": "stdout",
     "output_type": "stream",
     "text": [
      "[45, 23, 76, 65, 65, 65]\n"
     ]
    }
   ],
   "source": [
    "print(all_ages)"
   ]
  },
  {
   "cell_type": "code",
   "execution_count": null,
   "id": "5585ca72-558b-4085-bd14-b82e3d02fcc3",
   "metadata": {},
   "outputs": [],
   "source": []
  }
 ],
 "metadata": {
  "kernelspec": {
   "display_name": "Python 3 (ipykernel)",
   "language": "python",
   "name": "python3"
  },
  "language_info": {
   "codemirror_mode": {
    "name": "ipython",
    "version": 3
   },
   "file_extension": ".py",
   "mimetype": "text/x-python",
   "name": "python",
   "nbconvert_exporter": "python",
   "pygments_lexer": "ipython3",
   "version": "3.12.5"
  }
 },
 "nbformat": 4,
 "nbformat_minor": 5
}
