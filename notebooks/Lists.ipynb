{
 "cells": [
  {
   "cell_type": "markdown",
   "id": "c66bd4f4-1470-497a-abe1-1d4a89630660",
   "metadata": {},
   "source": [
    "# Lists\n",
    "multiple variables"
   ]
  },
  {
   "cell_type": "code",
   "execution_count": null,
   "id": "0b10c0b6-42d2-4e30-a292-449083aa455b",
   "metadata": {},
   "outputs": [],
   "source": [
    "age_1 = 35\n",
    "age_2 = 45\n",
    "age_4 = 35\n",
    "#etc"
   ]
  },
  {
   "cell_type": "markdown",
   "id": "2d4c673d-89a8-4d93-9b9f-de53c8eb1a4e",
   "metadata": {},
   "source": [
    "This would be very inefficient, we can instead use lists to store variables.\n",
    "\n",
    "### Creating lists"
   ]
  },
  {
   "cell_type": "code",
   "execution_count": 3,
   "id": "1c1bdc4a-0a25-4fea-bb43-5a4cba46a5bc",
   "metadata": {},
   "outputs": [],
   "source": [
    "all_ages = [35, 45, 67, 100, 9]"
   ]
  },
  {
   "cell_type": "code",
   "execution_count": 4,
   "id": "bb803d64-0926-40fb-9880-ed724cf70ed1",
   "metadata": {},
   "outputs": [
    {
     "name": "stdout",
     "output_type": "stream",
     "text": [
      "[35, 45, 67, 100, 9]\n"
     ]
    }
   ],
   "source": [
    "print(all_ages)"
   ]
  },
  {
   "cell_type": "markdown",
   "id": "0e3b102e-5fa3-46e7-a705-9cbab8237cd0",
   "metadata": {},
   "source": [
    "We can get the length of the list with `len`"
   ]
  },
  {
   "cell_type": "code",
   "execution_count": 5,
   "id": "254dde56-9332-4a8d-8999-8eaf6f3783e1",
   "metadata": {},
   "outputs": [
    {
     "data": {
      "text/plain": [
       "5"
      ]
     },
     "execution_count": 5,
     "metadata": {},
     "output_type": "execute_result"
    }
   ],
   "source": [
    "len(all_ages)"
   ]
  },
  {
   "cell_type": "markdown",
   "id": "2b8419e1-d100-44b9-9f71-c67825a09705",
   "metadata": {},
   "source": [
    "We can also create empty lists."
   ]
  },
  {
   "cell_type": "code",
   "execution_count": 13,
   "id": "59defece-c247-4b34-bb18-c9ca9e62c24c",
   "metadata": {},
   "outputs": [],
   "source": [
    "empty_list = []"
   ]
  },
  {
   "cell_type": "code",
   "execution_count": 14,
   "id": "baacf96e-fb09-49d2-ada6-9980c43e9bf2",
   "metadata": {},
   "outputs": [
    {
     "name": "stdout",
     "output_type": "stream",
     "text": [
      "[]\n"
     ]
    }
   ],
   "source": [
    "print(empty_list)"
   ]
  },
  {
   "cell_type": "code",
   "execution_count": 15,
   "id": "52d451ef-3b2a-4a55-8587-bcccedfec9e4",
   "metadata": {},
   "outputs": [
    {
     "name": "stdout",
     "output_type": "stream",
     "text": [
      "0\n"
     ]
    }
   ],
   "source": [
    "print(len(empty_list))"
   ]
  },
  {
   "cell_type": "markdown",
   "id": "93479ce9-0225-46ef-bef8-c8bf589ec74b",
   "metadata": {},
   "source": [
    "### Getting items from lists\n",
    "\n",
    "We can get individual items from the list using their indexes"
   ]
  },
  {
   "cell_type": "code",
   "execution_count": 6,
   "id": "fbe53dae-3939-43b7-b299-50b4dcbd5d64",
   "metadata": {},
   "outputs": [
    {
     "name": "stdout",
     "output_type": "stream",
     "text": [
      "35\n"
     ]
    }
   ],
   "source": [
    "print(all_ages[0])"
   ]
  },
  {
   "cell_type": "code",
   "execution_count": 7,
   "id": "67e6a6f9-576a-4944-9224-151ec5d1ba7a",
   "metadata": {},
   "outputs": [
    {
     "name": "stdout",
     "output_type": "stream",
     "text": [
      "9\n"
     ]
    }
   ],
   "source": [
    "print(all_ages[4])"
   ]
  },
  {
   "cell_type": "code",
   "execution_count": 8,
   "id": "fd8f2905-f9b7-4692-8712-cda4d3d100ea",
   "metadata": {},
   "outputs": [],
   "source": [
    "all_ages[0] = 36"
   ]
  },
  {
   "cell_type": "code",
   "execution_count": 9,
   "id": "53d3dfbb-2e09-4269-bcf4-8f176897c855",
   "metadata": {},
   "outputs": [
    {
     "name": "stdout",
     "output_type": "stream",
     "text": [
      "[36, 45, 67, 100, 9]\n"
     ]
    }
   ],
   "source": [
    "print(all_ages)"
   ]
  },
  {
   "cell_type": "markdown",
   "id": "ae63fa55-527a-4b01-a774-f1832196db75",
   "metadata": {},
   "source": [
    "Trying to get an index that is beyond the list will cause an error."
   ]
  },
  {
   "cell_type": "code",
   "execution_count": 10,
   "id": "8c9ed755-d07e-4634-a7b8-5d5a2745688b",
   "metadata": {},
   "outputs": [
    {
     "ename": "IndexError",
     "evalue": "list index out of range",
     "output_type": "error",
     "traceback": [
      "\u001b[1;31m---------------------------------------------------------------------------\u001b[0m",
      "\u001b[1;31mIndexError\u001b[0m                                Traceback (most recent call last)",
      "Cell \u001b[1;32mIn[10], line 1\u001b[0m\n\u001b[1;32m----> 1\u001b[0m \u001b[38;5;28mprint\u001b[39m(\u001b[43mall_ages\u001b[49m\u001b[43m[\u001b[49m\u001b[38;5;241;43m5\u001b[39;49m\u001b[43m]\u001b[49m)\n",
      "\u001b[1;31mIndexError\u001b[0m: list index out of range"
     ]
    }
   ],
   "source": [
    "print(all_ages[5]) # will raise error"
   ]
  },
  {
   "cell_type": "code",
   "execution_count": 11,
   "id": "3313c4e5-73c9-46b0-a4cb-460eb6e81307",
   "metadata": {},
   "outputs": [],
   "source": [
    "all_ages[0] = 35"
   ]
  },
  {
   "cell_type": "code",
   "execution_count": 12,
   "id": "51f4417f-9108-4d4d-bc22-03cc2b857adb",
   "metadata": {},
   "outputs": [
    {
     "name": "stdout",
     "output_type": "stream",
     "text": [
      "[35, 45, 67, 100, 9]\n"
     ]
    }
   ],
   "source": [
    "print(all_ages)"
   ]
  },
  {
   "cell_type": "markdown",
   "id": "f1a65af7-a0d8-44db-90bd-0b6020e1c489",
   "metadata": {},
   "source": [
    "## Adding to list\n",
    "\n",
    "We can add to the list using the `append` method. "
   ]
  },
  {
   "cell_type": "code",
   "execution_count": 16,
   "id": "ddb51283-ea5b-4aaf-97ef-40c2532bcca7",
   "metadata": {},
   "outputs": [],
   "source": [
    "all_ages = [45, 23, 76]"
   ]
  },
  {
   "cell_type": "code",
   "execution_count": 17,
   "id": "7b32745c-6457-4bcf-a598-b1f549d26a10",
   "metadata": {},
   "outputs": [],
   "source": [
    "all_ages.append(52)"
   ]
  },
  {
   "cell_type": "code",
   "execution_count": 18,
   "id": "8a43db65-c6dd-4060-87a1-c772a8f90794",
   "metadata": {},
   "outputs": [
    {
     "name": "stdout",
     "output_type": "stream",
     "text": [
      "[45, 23, 76, 52]\n"
     ]
    }
   ],
   "source": [
    "print(all_ages)"
   ]
  },
  {
   "cell_type": "code",
   "execution_count": 19,
   "id": "9939aff0-e67d-4c89-a0a2-f7d4c46bb6fe",
   "metadata": {},
   "outputs": [],
   "source": [
    "all_ages.append(65)"
   ]
  },
  {
   "cell_type": "code",
   "execution_count": 20,
   "id": "c8548516-497e-401f-a0d3-a05a430d45c9",
   "metadata": {},
   "outputs": [
    {
     "name": "stdout",
     "output_type": "stream",
     "text": [
      "[45, 23, 76, 52, 65]\n"
     ]
    }
   ],
   "source": [
    "print(all_ages)"
   ]
  },
  {
   "cell_type": "code",
   "execution_count": 21,
   "id": "b8bf41d2-80c3-4d6b-be56-65eb02ba564d",
   "metadata": {},
   "outputs": [
    {
     "data": {
      "text/plain": [
       "5"
      ]
     },
     "execution_count": 21,
     "metadata": {},
     "output_type": "execute_result"
    }
   ],
   "source": [
    "len(all_ages)"
   ]
  },
  {
   "cell_type": "markdown",
   "id": "512881ab-53b0-48a2-bc4b-dfb0c521e4b6",
   "metadata": {},
   "source": [
    "If you are interested about the \"methods\" associated with an object, you can first find type of the object"
   ]
  },
  {
   "cell_type": "code",
   "execution_count": 22,
   "id": "03f23f0e-ddb8-4bd8-a11b-3ad3601ba7aa",
   "metadata": {},
   "outputs": [
    {
     "data": {
      "text/plain": [
       "list"
      ]
     },
     "execution_count": 22,
     "metadata": {},
     "output_type": "execute_result"
    }
   ],
   "source": [
    "type(all_ages)"
   ]
  },
  {
   "cell_type": "markdown",
   "id": "e0f414cf-0d4a-419d-956e-804f97d54df9",
   "metadata": {},
   "source": [
    "You can then use the `help` command to print out all the methods (and other things) associated with this object type."
   ]
  },
  {
   "cell_type": "code",
   "execution_count": null,
   "id": "9757e28a-3400-471e-8489-4f7dad8db5ff",
   "metadata": {},
   "outputs": [],
   "source": [
    "# Not run as it clogs up the notebook\n",
    "# help(all_ages)"
   ]
  },
  {
   "cell_type": "markdown",
   "id": "21d793fd-a4ec-495f-a43b-2975f6dc0a3f",
   "metadata": {},
   "source": [
    "### Deleting items from the list\n",
    "\n",
    "We can use the `del` keyword and the item's list index to delete an item"
   ]
  },
  {
   "cell_type": "code",
   "execution_count": 34,
   "id": "4a9fe251-d8a3-44fe-a1e1-1f76bfffdd62",
   "metadata": {},
   "outputs": [],
   "source": [
    "all_ages = [54, 23, 68]"
   ]
  },
  {
   "cell_type": "code",
   "execution_count": 35,
   "id": "7493ff51-920c-4fdf-8469-4f4883fdc23b",
   "metadata": {},
   "outputs": [
    {
     "name": "stdout",
     "output_type": "stream",
     "text": [
      "[54, 23, 68]\n"
     ]
    }
   ],
   "source": [
    "print(all_ages)"
   ]
  },
  {
   "cell_type": "code",
   "execution_count": 36,
   "id": "38cd0f0f-6505-4434-878f-85c379821aa2",
   "metadata": {},
   "outputs": [],
   "source": [
    "del all_ages[0] # delete first element"
   ]
  },
  {
   "cell_type": "code",
   "execution_count": 37,
   "id": "6eef55c4-3b82-4428-a662-e0218e5de7c3",
   "metadata": {},
   "outputs": [
    {
     "name": "stdout",
     "output_type": "stream",
     "text": [
      "[23, 68]\n"
     ]
    }
   ],
   "source": [
    "print(all_ages)"
   ]
  },
  {
   "cell_type": "code",
   "execution_count": 38,
   "id": "56ea6db2-73a8-4f5f-9713-646a66caee7d",
   "metadata": {},
   "outputs": [],
   "source": [
    "del all_ages[0] # delete first elemend again"
   ]
  },
  {
   "cell_type": "code",
   "execution_count": 39,
   "id": "cb44f85b-ae7d-478a-bb72-71f165efa281",
   "metadata": {},
   "outputs": [
    {
     "name": "stdout",
     "output_type": "stream",
     "text": [
      "[68]\n"
     ]
    }
   ],
   "source": [
    "print(all_ages)"
   ]
  },
  {
   "cell_type": "markdown",
   "id": "e5e6d0c3-ce65-4bdf-9b82-bc76ac00a035",
   "metadata": {},
   "source": [
    "Deleting items changes the length of the list which could lead to errors"
   ]
  },
  {
   "cell_type": "code",
   "execution_count": 40,
   "id": "3be37ba4-321b-45cf-8ed6-a69693abc12e",
   "metadata": {},
   "outputs": [],
   "source": [
    "all_ages = [56, 75, 23]"
   ]
  },
  {
   "cell_type": "code",
   "execution_count": 41,
   "id": "1f4b5ba1-17dd-428a-af45-4a2add77aa59",
   "metadata": {},
   "outputs": [],
   "source": [
    "del all_ages[2]"
   ]
  },
  {
   "cell_type": "code",
   "execution_count": 42,
   "id": "b8d682aa-bbe2-4ea0-a008-e05055d22582",
   "metadata": {},
   "outputs": [
    {
     "name": "stdout",
     "output_type": "stream",
     "text": [
      "[56, 75]\n"
     ]
    }
   ],
   "source": [
    "print(all_ages)"
   ]
  },
  {
   "cell_type": "code",
   "execution_count": 43,
   "id": "ade16d97-54ba-4104-825b-64c972338498",
   "metadata": {},
   "outputs": [
    {
     "ename": "IndexError",
     "evalue": "list assignment index out of range",
     "output_type": "error",
     "traceback": [
      "\u001b[1;31m---------------------------------------------------------------------------\u001b[0m",
      "\u001b[1;31mIndexError\u001b[0m                                Traceback (most recent call last)",
      "Cell \u001b[1;32mIn[43], line 1\u001b[0m\n\u001b[1;32m----> 1\u001b[0m \u001b[38;5;28;01mdel\u001b[39;00m \u001b[43mall_ages\u001b[49m\u001b[43m[\u001b[49m\u001b[38;5;241;43m2\u001b[39;49m\u001b[43m]\u001b[49m\n",
      "\u001b[1;31mIndexError\u001b[0m: list assignment index out of range"
     ]
    }
   ],
   "source": [
    "del all_ages[2] # raises error because the list no longer has a third element"
   ]
  },
  {
   "cell_type": "markdown",
   "id": "60ec5877-e1e6-4295-befd-76b4cc8cee3b",
   "metadata": {},
   "source": [
    "### Lists can contain any types"
   ]
  },
  {
   "cell_type": "code",
   "execution_count": 44,
   "id": "e7a8d4b0-9f04-449a-81cb-91c9a1f5aba9",
   "metadata": {},
   "outputs": [],
   "source": [
    "all_names = [\"Julian Evans\", \"Ruben\", \"Riane\"]"
   ]
  },
  {
   "cell_type": "code",
   "execution_count": 45,
   "id": "695aec64-08c1-4240-a96d-781f13612617",
   "metadata": {},
   "outputs": [
    {
     "name": "stdout",
     "output_type": "stream",
     "text": [
      "['Julian Evans', 'Ruben', 'Riane']\n"
     ]
    }
   ],
   "source": [
    "print(all_names)"
   ]
  },
  {
   "cell_type": "code",
   "execution_count": 46,
   "id": "9ac90dac-8c9d-4008-a511-2495fe739f8e",
   "metadata": {},
   "outputs": [
    {
     "data": {
      "text/plain": [
       "str"
      ]
     },
     "execution_count": 46,
     "metadata": {},
     "output_type": "execute_result"
    }
   ],
   "source": [
    "type(all_names[1])"
   ]
  },
  {
   "cell_type": "markdown",
   "id": "23173744-e960-4bbf-990b-0fec832c7c06",
   "metadata": {},
   "source": [
    "Lists can contain a mix of types"
   ]
  },
  {
   "cell_type": "code",
   "execution_count": 47,
   "id": "1a2cbc5a-5da9-434b-8eab-526ef347a4a7",
   "metadata": {},
   "outputs": [],
   "source": [
    "mix_list = [\"Julian\", 36, 67.2]"
   ]
  },
  {
   "cell_type": "code",
   "execution_count": 48,
   "id": "0a8bed3b-b471-4e64-8204-b897d06b7cdb",
   "metadata": {},
   "outputs": [
    {
     "name": "stdout",
     "output_type": "stream",
     "text": [
      "['Julian', 36, 67.2]\n"
     ]
    }
   ],
   "source": [
    "print(mix_list)"
   ]
  },
  {
   "cell_type": "code",
   "execution_count": 49,
   "id": "9ef22d52-296a-47c4-8860-cecb7d35cc62",
   "metadata": {},
   "outputs": [
    {
     "data": {
      "text/plain": [
       "str"
      ]
     },
     "execution_count": 49,
     "metadata": {},
     "output_type": "execute_result"
    }
   ],
   "source": [
    "type(mix_list[0])"
   ]
  },
  {
   "cell_type": "code",
   "execution_count": 50,
   "id": "3e1e0a90-5b74-498c-a893-1cb7e8833064",
   "metadata": {},
   "outputs": [
    {
     "data": {
      "text/plain": [
       "int"
      ]
     },
     "execution_count": 50,
     "metadata": {},
     "output_type": "execute_result"
    }
   ],
   "source": [
    "type(mix_list[1])"
   ]
  },
  {
   "cell_type": "code",
   "execution_count": 51,
   "id": "4d780090-2939-45d1-ad6a-20422d8466e8",
   "metadata": {},
   "outputs": [],
   "source": [
    "mix_list[1] = \"Ruben\""
   ]
  },
  {
   "cell_type": "markdown",
   "id": "cf5af783-399c-467a-9dbf-211074ce8695",
   "metadata": {},
   "source": [
    "### Strings are not modifiable"
   ]
  },
  {
   "cell_type": "code",
   "execution_count": 52,
   "id": "5102260c-af07-47ca-b23c-d5595ed98268",
   "metadata": {},
   "outputs": [],
   "source": [
    "my_name = \"Julian\""
   ]
  },
  {
   "cell_type": "code",
   "execution_count": 54,
   "id": "09b9ec72-4f37-413a-a2f7-e763c93b6848",
   "metadata": {},
   "outputs": [
    {
     "data": {
      "text/plain": [
       "'J'"
      ]
     },
     "execution_count": 54,
     "metadata": {},
     "output_type": "execute_result"
    }
   ],
   "source": [
    "my_name[0] # can print element"
   ]
  },
  {
   "cell_type": "code",
   "execution_count": 55,
   "id": "c77122ac-c8b9-41de-b9c1-e6d9714e0a55",
   "metadata": {},
   "outputs": [
    {
     "ename": "TypeError",
     "evalue": "'str' object does not support item assignment",
     "output_type": "error",
     "traceback": [
      "\u001b[1;31m---------------------------------------------------------------------------\u001b[0m",
      "\u001b[1;31mTypeError\u001b[0m                                 Traceback (most recent call last)",
      "Cell \u001b[1;32mIn[55], line 1\u001b[0m\n\u001b[1;32m----> 1\u001b[0m \u001b[43mmy_name\u001b[49m\u001b[43m[\u001b[49m\u001b[38;5;241;43m0\u001b[39;49m\u001b[43m]\u001b[49m \u001b[38;5;241m=\u001b[39m \u001b[38;5;124m\"\u001b[39m\u001b[38;5;124mH\u001b[39m\u001b[38;5;124m\"\u001b[39m\n",
      "\u001b[1;31mTypeError\u001b[0m: 'str' object does not support item assignment"
     ]
    }
   ],
   "source": [
    "my_name[0] = \"H\" #raises error, cannot modify element"
   ]
  },
  {
   "cell_type": "markdown",
   "id": "55bf6599-eb22-428b-8ecd-c23d31d98751",
   "metadata": {},
   "source": [
    "### Negative indexing\n",
    "\n",
    "With negative indexing we can get items from the ends of collections. -1 Gives us the last item in a collection."
   ]
  },
  {
   "cell_type": "code",
   "execution_count": 56,
   "id": "3a6cc14b-ac3f-4f1d-85d2-bfb6ca3d1d3f",
   "metadata": {},
   "outputs": [],
   "source": [
    "element = 'helium'"
   ]
  },
  {
   "cell_type": "code",
   "execution_count": 57,
   "id": "d19880e1-3bf3-413f-8e14-90f1e3b2cc2e",
   "metadata": {},
   "outputs": [
    {
     "name": "stdout",
     "output_type": "stream",
     "text": [
      "m\n"
     ]
    }
   ],
   "source": [
    "print(element[-1])"
   ]
  },
  {
   "cell_type": "code",
   "execution_count": 58,
   "id": "b37b617f-38e5-42e7-9e96-2a54db0aeb8f",
   "metadata": {},
   "outputs": [
    {
     "name": "stdout",
     "output_type": "stream",
     "text": [
      "i\n"
     ]
    }
   ],
   "source": [
    "# Using negative indexing, \n",
    "# how would you get the i from helium?\n",
    "\n",
    "print(element[-3]) "
   ]
  },
  {
   "cell_type": "code",
   "execution_count": 59,
   "id": "f92b133e-1c92-4973-a631-29d0415c6ad4",
   "metadata": {},
   "outputs": [
    {
     "data": {
      "text/plain": [
       "75"
      ]
     },
     "execution_count": 59,
     "metadata": {},
     "output_type": "execute_result"
    }
   ],
   "source": [
    "all_ages[-1]"
   ]
  },
  {
   "cell_type": "markdown",
   "id": "9661a126-5c11-4bac-9df0-448da7caf5a6",
   "metadata": {},
   "source": [
    "Some things to note while slicing"
   ]
  },
  {
   "cell_type": "code",
   "execution_count": 61,
   "id": "e740f395-19c5-4d1a-89b3-f280160c5d05",
   "metadata": {},
   "outputs": [],
   "source": [
    "element = 'lithium'"
   ]
  },
  {
   "cell_type": "code",
   "execution_count": 62,
   "id": "cb4813ea-0bbd-40b1-936c-f3f9300f4150",
   "metadata": {},
   "outputs": [
    {
     "name": "stdout",
     "output_type": "stream",
     "text": [
      "lithium\n"
     ]
    }
   ],
   "source": [
    "print(element[0:20]) # gets whole word - slice can go beyond"
   ]
  },
  {
   "cell_type": "code",
   "execution_count": 64,
   "id": "5a3566a4-0ba5-44bf-b269-24c9f3dc3ac8",
   "metadata": {},
   "outputs": [
    {
     "name": "stdout",
     "output_type": "stream",
     "text": [
      "\n"
     ]
    }
   ],
   "source": [
    "print(element[-1:3]) # cannot slice backwards"
   ]
  },
  {
   "cell_type": "code",
   "execution_count": 63,
   "id": "566a7b06-9138-40c5-8b4f-0c5414254ad0",
   "metadata": {},
   "outputs": [
    {
     "ename": "IndexError",
     "evalue": "string index out of range",
     "output_type": "error",
     "traceback": [
      "\u001b[1;31m---------------------------------------------------------------------------\u001b[0m",
      "\u001b[1;31mIndexError\u001b[0m                                Traceback (most recent call last)",
      "Cell \u001b[1;32mIn[63], line 1\u001b[0m\n\u001b[1;32m----> 1\u001b[0m \u001b[43melement\u001b[49m\u001b[43m[\u001b[49m\u001b[38;5;241;43m20\u001b[39;49m\u001b[43m]\u001b[49m\n",
      "\u001b[1;31mIndexError\u001b[0m: string index out of range"
     ]
    }
   ],
   "source": [
    "element[20] # while slice does not care if we try to go to far, standard indexing does"
   ]
  },
  {
   "cell_type": "markdown",
   "id": "97670dbd-ec02-4080-841d-3b511ef8fb5e",
   "metadata": {},
   "source": [
    "### Why is negative indexing useful?"
   ]
  },
  {
   "cell_type": "code",
   "execution_count": 68,
   "id": "6f446483-aa3f-464c-ad08-73d1709daa6a",
   "metadata": {},
   "outputs": [],
   "source": [
    "all_ages = [56, 56, 23, 78, 43]"
   ]
  },
  {
   "cell_type": "markdown",
   "id": "d0167c0b-1ed2-4b57-956f-078548a45f4a",
   "metadata": {},
   "source": [
    "If we want to delete the last element of this list:"
   ]
  },
  {
   "cell_type": "code",
   "execution_count": 69,
   "id": "27c8e5f0-dbc2-4750-a373-55632d893f78",
   "metadata": {},
   "outputs": [],
   "source": [
    "del all_ages[4]"
   ]
  },
  {
   "cell_type": "markdown",
   "id": "5b3a1236-ca6a-4281-9214-7b7f65c8a282",
   "metadata": {},
   "source": [
    "If we want to delete the last element of this list again"
   ]
  },
  {
   "cell_type": "code",
   "execution_count": 70,
   "id": "f414e7a7-03c8-40f8-9cd8-20de77b99148",
   "metadata": {},
   "outputs": [
    {
     "ename": "IndexError",
     "evalue": "list assignment index out of range",
     "output_type": "error",
     "traceback": [
      "\u001b[1;31m---------------------------------------------------------------------------\u001b[0m",
      "\u001b[1;31mIndexError\u001b[0m                                Traceback (most recent call last)",
      "Cell \u001b[1;32mIn[70], line 1\u001b[0m\n\u001b[1;32m----> 1\u001b[0m \u001b[38;5;28;01mdel\u001b[39;00m \u001b[43mall_ages\u001b[49m\u001b[43m[\u001b[49m\u001b[38;5;241;43m4\u001b[39;49m\u001b[43m]\u001b[49m\n",
      "\u001b[1;31mIndexError\u001b[0m: list assignment index out of range"
     ]
    }
   ],
   "source": [
    "del all_ages[4] # raises error because this index no longer exists"
   ]
  },
  {
   "cell_type": "code",
   "execution_count": null,
   "id": "6f345ab4-4b40-4f03-8daf-62714d352f6e",
   "metadata": {},
   "outputs": [],
   "source": [
    "print(all_ages) # No index 4"
   ]
  },
  {
   "cell_type": "markdown",
   "id": "fec4fa0d-58f0-4454-8a63-a76a288dbd98",
   "metadata": {},
   "source": [
    "We can use negative indexing to avoid this error"
   ]
  },
  {
   "cell_type": "code",
   "execution_count": 72,
   "id": "4f49b1e6-68fb-4da3-bda3-b65b21e560c7",
   "metadata": {},
   "outputs": [],
   "source": [
    "all_ages = [56, 56, 23, 78, 43]"
   ]
  },
  {
   "cell_type": "code",
   "execution_count": 73,
   "id": "7a4eaa7f-f196-4c0d-a66c-43ed38d07e2f",
   "metadata": {},
   "outputs": [],
   "source": [
    "del all_ages[-1] #delete the last element"
   ]
  },
  {
   "cell_type": "code",
   "execution_count": 74,
   "id": "83a16031-14cf-46c5-91d5-eac514a9a785",
   "metadata": {},
   "outputs": [],
   "source": [
    "del all_ages[-1] #delete the last element"
   ]
  },
  {
   "cell_type": "markdown",
   "id": "bd827be9-7bc1-4ede-98dc-138ead8f296f",
   "metadata": {},
   "source": [
    "Using the -1 index lets us always delete the last element regardless of how long the list is"
   ]
  },
  {
   "cell_type": "code",
   "execution_count": 75,
   "id": "a996dde3-ab76-4aea-bb66-e87d1ae62b0c",
   "metadata": {},
   "outputs": [
    {
     "name": "stdout",
     "output_type": "stream",
     "text": [
      "[56, 56, 23]\n"
     ]
    }
   ],
   "source": [
    "print(all_ages)"
   ]
  },
  {
   "cell_type": "markdown",
   "id": "19b1136c-2302-4f3c-b4d6-c4bfbbd7be95",
   "metadata": {},
   "source": [
    "Another example, if we wanted to extract some characters from the end of a string."
   ]
  },
  {
   "cell_type": "code",
   "execution_count": 76,
   "id": "5236e2e4-7242-4d20-bde5-61f8d57eb2e7",
   "metadata": {},
   "outputs": [],
   "source": [
    "string_and_number = \"Ruben_45\""
   ]
  },
  {
   "cell_type": "code",
   "execution_count": 78,
   "id": "76f7978f-0bb2-430e-bba9-db7cdb732028",
   "metadata": {},
   "outputs": [],
   "source": [
    "my_number = string_and_number[-2:] # Slice from second to last item until the end"
   ]
  },
  {
   "cell_type": "code",
   "execution_count": 79,
   "id": "c441f9b6-b5d0-47d1-90b5-24069ca4d72f",
   "metadata": {},
   "outputs": [
    {
     "data": {
      "text/plain": [
       "45"
      ]
     },
     "execution_count": 79,
     "metadata": {},
     "output_type": "execute_result"
    }
   ],
   "source": [
    "int(my_number)"
   ]
  },
  {
   "cell_type": "markdown",
   "id": "aac5f53f-b0a2-4135-95d9-066acac89cf5",
   "metadata": {},
   "source": [
    "Using negative indexing means this code will always work no matter the length of the string"
   ]
  },
  {
   "cell_type": "code",
   "execution_count": 80,
   "id": "0127c010-10ab-4b21-8d81-5e168be04a72",
   "metadata": {},
   "outputs": [],
   "source": [
    "string_and_number = \"John_65\""
   ]
  },
  {
   "cell_type": "code",
   "execution_count": 81,
   "id": "c7cc3435-84eb-44a3-8c5d-b641bd072413",
   "metadata": {},
   "outputs": [],
   "source": [
    "my_number = string_and_number[-2:]"
   ]
  },
  {
   "cell_type": "code",
   "execution_count": 82,
   "id": "1f007fd8-0804-4e5b-a514-4344b1b5340a",
   "metadata": {},
   "outputs": [
    {
     "data": {
      "text/plain": [
       "65"
      ]
     },
     "execution_count": 82,
     "metadata": {},
     "output_type": "execute_result"
    }
   ],
   "source": [
    "int(my_number)"
   ]
  },
  {
   "cell_type": "markdown",
   "id": "e243c3be-a366-48a0-93c2-82a207df0f14",
   "metadata": {},
   "source": [
    "Note that slicing is still not inclusive when using negative indexing"
   ]
  },
  {
   "cell_type": "code",
   "execution_count": 83,
   "id": "c545106d-5e60-422b-9893-6dc62b241946",
   "metadata": {},
   "outputs": [],
   "source": [
    "element = \"Lithium\""
   ]
  },
  {
   "cell_type": "code",
   "execution_count": 84,
   "id": "aac6910c-9b9f-43cf-9d0c-7e372256e88d",
   "metadata": {},
   "outputs": [
    {
     "data": {
      "text/plain": [
       "'Lithiu'"
      ]
     },
     "execution_count": 84,
     "metadata": {},
     "output_type": "execute_result"
    }
   ],
   "source": [
    "element[0:-1]# From the first item UNTIL (but not including) the last character"
   ]
  },
  {
   "cell_type": "markdown",
   "id": "58810995-f63f-455e-9af8-5afddd1312f4",
   "metadata": {},
   "source": [
    "### Adding more than one element at once/combining lists\n",
    "If we want to add more than one item to a list at once, the easiest way is to combine two lists"
   ]
  },
  {
   "cell_type": "code",
   "execution_count": 93,
   "id": "f1ad4035-0015-4539-9a88-bcbb78bef00d",
   "metadata": {},
   "outputs": [],
   "source": [
    "my_ages = [1, 2, 3]"
   ]
  },
  {
   "cell_type": "code",
   "execution_count": 94,
   "id": "b394507f-a5de-4e6a-a1d9-2f5c6905c1fb",
   "metadata": {},
   "outputs": [],
   "source": [
    "my_new_ages = [4, 5, 6] # items we want to add"
   ]
  },
  {
   "cell_type": "code",
   "execution_count": 96,
   "id": "d18adb04-a489-400c-8836-e215f0bad7b0",
   "metadata": {},
   "outputs": [],
   "source": [
    "all_ages = my_ages + my_new_ages #combine these lists"
   ]
  },
  {
   "cell_type": "code",
   "execution_count": 97,
   "id": "466ac03e-6548-44f6-8f03-0be62cd1d705",
   "metadata": {},
   "outputs": [
    {
     "name": "stdout",
     "output_type": "stream",
     "text": [
      "[1, 2, 3, 4, 5, 6]\n"
     ]
    }
   ],
   "source": [
    "print(all_ages)"
   ]
  },
  {
   "cell_type": "markdown",
   "id": "ee340740-b2ba-492a-a22b-e614495ac7f7",
   "metadata": {},
   "source": [
    "Beware trying to use append to add more than one number at once:"
   ]
  },
  {
   "cell_type": "code",
   "execution_count": 98,
   "id": "8854ca54-e61f-46b6-a4b5-64291b05df67",
   "metadata": {},
   "outputs": [
    {
     "name": "stdout",
     "output_type": "stream",
     "text": [
      "[1, 2, 3, [4, 5, 6]]\n"
     ]
    }
   ],
   "source": [
    "my_ages.append(my_new_ages)\n",
    "print(my_ages)"
   ]
  },
  {
   "cell_type": "markdown",
   "id": "1f30bf65-e5e7-4959-8fae-b87e02bdbcce",
   "metadata": {},
   "source": [
    "This has resulted in a *nested list*. The fourth item of our my_ages list is now also a list. "
   ]
  },
  {
   "cell_type": "code",
   "execution_count": 99,
   "id": "e30ccabc-8780-4e24-8ec9-ebaa5083cb17",
   "metadata": {},
   "outputs": [
    {
     "data": {
      "text/plain": [
       "list"
      ]
     },
     "execution_count": 99,
     "metadata": {},
     "output_type": "execute_result"
    }
   ],
   "source": [
    "type(my_ages[3])"
   ]
  },
  {
   "cell_type": "markdown",
   "id": "328f2c28-50c0-4fa8-b795-b4921937a833",
   "metadata": {},
   "source": [
    "This can be useful sometimes, but be aware of it!"
   ]
  }
 ],
 "metadata": {
  "kernelspec": {
   "display_name": "Python 3 (ipykernel)",
   "language": "python",
   "name": "python3"
  },
  "language_info": {
   "codemirror_mode": {
    "name": "ipython",
    "version": 3
   },
   "file_extension": ".py",
   "mimetype": "text/x-python",
   "name": "python",
   "nbconvert_exporter": "python",
   "pygments_lexer": "ipython3",
   "version": "3.12.5"
  }
 },
 "nbformat": 4,
 "nbformat_minor": 5
}
