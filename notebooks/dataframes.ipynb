{
 "cells": [
  {
   "cell_type": "code",
   "execution_count": 1,
   "id": "db1f5eea-614a-4c67-bcd1-126ec7716e63",
   "metadata": {},
   "outputs": [],
   "source": [
    "import pandas as pd"
   ]
  },
  {
   "cell_type": "code",
   "execution_count": 2,
   "id": "d62c9b90-2480-44f1-84c2-b1f1e3963eb8",
   "metadata": {},
   "outputs": [],
   "source": [
    "data = pd.read_csv(\"../data/gapminder_gdp_europe.csv\", index_col=\"country\")"
   ]
  },
  {
   "cell_type": "code",
   "execution_count": 5,
   "id": "7100363e-d8e3-4155-b400-c8e5b517bcc8",
   "metadata": {},
   "outputs": [
    {
     "data": {
      "text/html": [
       "<div>\n",
       "<style scoped>\n",
       "    .dataframe tbody tr th:only-of-type {\n",
       "        vertical-align: middle;\n",
       "    }\n",
       "\n",
       "    .dataframe tbody tr th {\n",
       "        vertical-align: top;\n",
       "    }\n",
       "\n",
       "    .dataframe thead th {\n",
       "        text-align: right;\n",
       "    }\n",
       "</style>\n",
       "<table border=\"1\" class=\"dataframe\">\n",
       "  <thead>\n",
       "    <tr style=\"text-align: right;\">\n",
       "      <th></th>\n",
       "      <th>gdpPercap_1952</th>\n",
       "      <th>gdpPercap_1957</th>\n",
       "      <th>gdpPercap_1962</th>\n",
       "      <th>gdpPercap_1967</th>\n",
       "      <th>gdpPercap_1972</th>\n",
       "      <th>gdpPercap_1977</th>\n",
       "      <th>gdpPercap_1982</th>\n",
       "      <th>gdpPercap_1987</th>\n",
       "      <th>gdpPercap_1992</th>\n",
       "      <th>gdpPercap_1997</th>\n",
       "      <th>gdpPercap_2002</th>\n",
       "      <th>gdpPercap_2007</th>\n",
       "    </tr>\n",
       "    <tr>\n",
       "      <th>country</th>\n",
       "      <th></th>\n",
       "      <th></th>\n",
       "      <th></th>\n",
       "      <th></th>\n",
       "      <th></th>\n",
       "      <th></th>\n",
       "      <th></th>\n",
       "      <th></th>\n",
       "      <th></th>\n",
       "      <th></th>\n",
       "      <th></th>\n",
       "      <th></th>\n",
       "    </tr>\n",
       "  </thead>\n",
       "  <tbody>\n",
       "    <tr>\n",
       "      <th>Albania</th>\n",
       "      <td>1601.056136</td>\n",
       "      <td>1942.284244</td>\n",
       "      <td>2312.888958</td>\n",
       "      <td>2760.196931</td>\n",
       "      <td>3313.422188</td>\n",
       "      <td>3533.00391</td>\n",
       "      <td>3630.880722</td>\n",
       "      <td>3738.932735</td>\n",
       "      <td>2497.437901</td>\n",
       "      <td>3193.054604</td>\n",
       "      <td>4604.211737</td>\n",
       "      <td>5937.029526</td>\n",
       "    </tr>\n",
       "    <tr>\n",
       "      <th>Austria</th>\n",
       "      <td>6137.076492</td>\n",
       "      <td>8842.598030</td>\n",
       "      <td>10750.721110</td>\n",
       "      <td>12834.602400</td>\n",
       "      <td>16661.625600</td>\n",
       "      <td>19749.42230</td>\n",
       "      <td>21597.083620</td>\n",
       "      <td>23687.826070</td>\n",
       "      <td>27042.018680</td>\n",
       "      <td>29095.920660</td>\n",
       "      <td>32417.607690</td>\n",
       "      <td>36126.492700</td>\n",
       "    </tr>\n",
       "    <tr>\n",
       "      <th>Belgium</th>\n",
       "      <td>8343.105127</td>\n",
       "      <td>9714.960623</td>\n",
       "      <td>10991.206760</td>\n",
       "      <td>13149.041190</td>\n",
       "      <td>16672.143560</td>\n",
       "      <td>19117.97448</td>\n",
       "      <td>20979.845890</td>\n",
       "      <td>22525.563080</td>\n",
       "      <td>25575.570690</td>\n",
       "      <td>27561.196630</td>\n",
       "      <td>30485.883750</td>\n",
       "      <td>33692.605080</td>\n",
       "    </tr>\n",
       "  </tbody>\n",
       "</table>\n",
       "</div>"
      ],
      "text/plain": [
       "         gdpPercap_1952  gdpPercap_1957  gdpPercap_1962  gdpPercap_1967  \\\n",
       "country                                                                   \n",
       "Albania     1601.056136     1942.284244     2312.888958     2760.196931   \n",
       "Austria     6137.076492     8842.598030    10750.721110    12834.602400   \n",
       "Belgium     8343.105127     9714.960623    10991.206760    13149.041190   \n",
       "\n",
       "         gdpPercap_1972  gdpPercap_1977  gdpPercap_1982  gdpPercap_1987  \\\n",
       "country                                                                   \n",
       "Albania     3313.422188      3533.00391     3630.880722     3738.932735   \n",
       "Austria    16661.625600     19749.42230    21597.083620    23687.826070   \n",
       "Belgium    16672.143560     19117.97448    20979.845890    22525.563080   \n",
       "\n",
       "         gdpPercap_1992  gdpPercap_1997  gdpPercap_2002  gdpPercap_2007  \n",
       "country                                                                  \n",
       "Albania     2497.437901     3193.054604     4604.211737     5937.029526  \n",
       "Austria    27042.018680    29095.920660    32417.607690    36126.492700  \n",
       "Belgium    25575.570690    27561.196630    30485.883750    33692.605080  "
      ]
     },
     "execution_count": 5,
     "metadata": {},
     "output_type": "execute_result"
    }
   ],
   "source": [
    "data.head(3)"
   ]
  },
  {
   "cell_type": "code",
   "execution_count": 6,
   "id": "15523c1d-46e2-4b0f-8bf9-80a81b55d209",
   "metadata": {},
   "outputs": [
    {
     "data": {
      "text/html": [
       "<div>\n",
       "<style scoped>\n",
       "    .dataframe tbody tr th:only-of-type {\n",
       "        vertical-align: middle;\n",
       "    }\n",
       "\n",
       "    .dataframe tbody tr th {\n",
       "        vertical-align: top;\n",
       "    }\n",
       "\n",
       "    .dataframe thead th {\n",
       "        text-align: right;\n",
       "    }\n",
       "</style>\n",
       "<table border=\"1\" class=\"dataframe\">\n",
       "  <thead>\n",
       "    <tr style=\"text-align: right;\">\n",
       "      <th></th>\n",
       "      <th>gdpPercap_1952</th>\n",
       "      <th>gdpPercap_1957</th>\n",
       "      <th>gdpPercap_1962</th>\n",
       "      <th>gdpPercap_1967</th>\n",
       "      <th>gdpPercap_1972</th>\n",
       "      <th>gdpPercap_1977</th>\n",
       "      <th>gdpPercap_1982</th>\n",
       "      <th>gdpPercap_1987</th>\n",
       "      <th>gdpPercap_1992</th>\n",
       "      <th>gdpPercap_1997</th>\n",
       "      <th>gdpPercap_2002</th>\n",
       "      <th>gdpPercap_2007</th>\n",
       "    </tr>\n",
       "  </thead>\n",
       "  <tbody>\n",
       "    <tr>\n",
       "      <th>count</th>\n",
       "      <td>30.000000</td>\n",
       "      <td>30.000000</td>\n",
       "      <td>30.000000</td>\n",
       "      <td>30.000000</td>\n",
       "      <td>30.000000</td>\n",
       "      <td>30.000000</td>\n",
       "      <td>30.000000</td>\n",
       "      <td>30.000000</td>\n",
       "      <td>30.000000</td>\n",
       "      <td>30.000000</td>\n",
       "      <td>30.000000</td>\n",
       "      <td>30.000000</td>\n",
       "    </tr>\n",
       "    <tr>\n",
       "      <th>mean</th>\n",
       "      <td>5661.057435</td>\n",
       "      <td>6963.012816</td>\n",
       "      <td>8365.486814</td>\n",
       "      <td>10143.823757</td>\n",
       "      <td>12479.575246</td>\n",
       "      <td>14283.979110</td>\n",
       "      <td>15617.896551</td>\n",
       "      <td>17214.310727</td>\n",
       "      <td>17061.568084</td>\n",
       "      <td>19076.781802</td>\n",
       "      <td>21711.732422</td>\n",
       "      <td>25054.481636</td>\n",
       "    </tr>\n",
       "    <tr>\n",
       "      <th>std</th>\n",
       "      <td>3114.060493</td>\n",
       "      <td>3677.950146</td>\n",
       "      <td>4199.193906</td>\n",
       "      <td>4724.983889</td>\n",
       "      <td>5509.691411</td>\n",
       "      <td>5874.464896</td>\n",
       "      <td>6453.234827</td>\n",
       "      <td>7482.957960</td>\n",
       "      <td>9109.804361</td>\n",
       "      <td>10065.457716</td>\n",
       "      <td>11197.355517</td>\n",
       "      <td>11800.339811</td>\n",
       "    </tr>\n",
       "    <tr>\n",
       "      <th>min</th>\n",
       "      <td>973.533195</td>\n",
       "      <td>1353.989176</td>\n",
       "      <td>1709.683679</td>\n",
       "      <td>2172.352423</td>\n",
       "      <td>2860.169750</td>\n",
       "      <td>3528.481305</td>\n",
       "      <td>3630.880722</td>\n",
       "      <td>3738.932735</td>\n",
       "      <td>2497.437901</td>\n",
       "      <td>3193.054604</td>\n",
       "      <td>4604.211737</td>\n",
       "      <td>5937.029526</td>\n",
       "    </tr>\n",
       "    <tr>\n",
       "      <th>25%</th>\n",
       "      <td>3241.132406</td>\n",
       "      <td>4394.874315</td>\n",
       "      <td>5373.536612</td>\n",
       "      <td>6657.939047</td>\n",
       "      <td>9057.708094</td>\n",
       "      <td>10360.030300</td>\n",
       "      <td>11449.870115</td>\n",
       "      <td>12274.570680</td>\n",
       "      <td>8667.113214</td>\n",
       "      <td>9946.599306</td>\n",
       "      <td>11721.851483</td>\n",
       "      <td>14811.898210</td>\n",
       "    </tr>\n",
       "    <tr>\n",
       "      <th>50%</th>\n",
       "      <td>5142.469716</td>\n",
       "      <td>6066.721495</td>\n",
       "      <td>7515.733737</td>\n",
       "      <td>9366.067033</td>\n",
       "      <td>12326.379990</td>\n",
       "      <td>14225.754515</td>\n",
       "      <td>15322.824720</td>\n",
       "      <td>16215.485895</td>\n",
       "      <td>17550.155945</td>\n",
       "      <td>19596.498550</td>\n",
       "      <td>23674.863230</td>\n",
       "      <td>28054.065790</td>\n",
       "    </tr>\n",
       "    <tr>\n",
       "      <th>75%</th>\n",
       "      <td>7236.794919</td>\n",
       "      <td>9597.220820</td>\n",
       "      <td>10931.085348</td>\n",
       "      <td>13277.182058</td>\n",
       "      <td>16523.017127</td>\n",
       "      <td>19052.412163</td>\n",
       "      <td>20901.729730</td>\n",
       "      <td>23321.587723</td>\n",
       "      <td>25034.243045</td>\n",
       "      <td>27189.530312</td>\n",
       "      <td>30373.363307</td>\n",
       "      <td>33817.962533</td>\n",
       "    </tr>\n",
       "    <tr>\n",
       "      <th>max</th>\n",
       "      <td>14734.232750</td>\n",
       "      <td>17909.489730</td>\n",
       "      <td>20431.092700</td>\n",
       "      <td>22966.144320</td>\n",
       "      <td>27195.113040</td>\n",
       "      <td>26982.290520</td>\n",
       "      <td>28397.715120</td>\n",
       "      <td>31540.974800</td>\n",
       "      <td>33965.661150</td>\n",
       "      <td>41283.164330</td>\n",
       "      <td>44683.975250</td>\n",
       "      <td>49357.190170</td>\n",
       "    </tr>\n",
       "  </tbody>\n",
       "</table>\n",
       "</div>"
      ],
      "text/plain": [
       "       gdpPercap_1952  gdpPercap_1957  gdpPercap_1962  gdpPercap_1967  \\\n",
       "count       30.000000       30.000000       30.000000       30.000000   \n",
       "mean      5661.057435     6963.012816     8365.486814    10143.823757   \n",
       "std       3114.060493     3677.950146     4199.193906     4724.983889   \n",
       "min        973.533195     1353.989176     1709.683679     2172.352423   \n",
       "25%       3241.132406     4394.874315     5373.536612     6657.939047   \n",
       "50%       5142.469716     6066.721495     7515.733737     9366.067033   \n",
       "75%       7236.794919     9597.220820    10931.085348    13277.182058   \n",
       "max      14734.232750    17909.489730    20431.092700    22966.144320   \n",
       "\n",
       "       gdpPercap_1972  gdpPercap_1977  gdpPercap_1982  gdpPercap_1987  \\\n",
       "count       30.000000       30.000000       30.000000       30.000000   \n",
       "mean     12479.575246    14283.979110    15617.896551    17214.310727   \n",
       "std       5509.691411     5874.464896     6453.234827     7482.957960   \n",
       "min       2860.169750     3528.481305     3630.880722     3738.932735   \n",
       "25%       9057.708094    10360.030300    11449.870115    12274.570680   \n",
       "50%      12326.379990    14225.754515    15322.824720    16215.485895   \n",
       "75%      16523.017127    19052.412163    20901.729730    23321.587723   \n",
       "max      27195.113040    26982.290520    28397.715120    31540.974800   \n",
       "\n",
       "       gdpPercap_1992  gdpPercap_1997  gdpPercap_2002  gdpPercap_2007  \n",
       "count       30.000000       30.000000       30.000000       30.000000  \n",
       "mean     17061.568084    19076.781802    21711.732422    25054.481636  \n",
       "std       9109.804361    10065.457716    11197.355517    11800.339811  \n",
       "min       2497.437901     3193.054604     4604.211737     5937.029526  \n",
       "25%       8667.113214     9946.599306    11721.851483    14811.898210  \n",
       "50%      17550.155945    19596.498550    23674.863230    28054.065790  \n",
       "75%      25034.243045    27189.530312    30373.363307    33817.962533  \n",
       "max      33965.661150    41283.164330    44683.975250    49357.190170  "
      ]
     },
     "execution_count": 6,
     "metadata": {},
     "output_type": "execute_result"
    }
   ],
   "source": [
    "data.describe()"
   ]
  },
  {
   "cell_type": "markdown",
   "id": "cb3f1c66-f969-4e1c-a918-e98fdc489041",
   "metadata": {},
   "source": [
    "# DataFrames"
   ]
  },
  {
   "cell_type": "code",
   "execution_count": 7,
   "id": "b6c2a84f-fbb2-4ce5-94f8-100e3fb41489",
   "metadata": {},
   "outputs": [
    {
     "data": {
      "text/plain": [
       "pandas.core.frame.DataFrame"
      ]
     },
     "execution_count": 7,
     "metadata": {},
     "output_type": "execute_result"
    }
   ],
   "source": [
    "type(data)"
   ]
  },
  {
   "cell_type": "code",
   "execution_count": 9,
   "id": "81920ed5-dcf1-4d0b-9b78-24f39ef4515e",
   "metadata": {},
   "outputs": [],
   "source": [
    "#help(data)"
   ]
  },
  {
   "cell_type": "markdown",
   "id": "2fd31566-15c1-4c9a-ad5c-ba06c1ec1a56",
   "metadata": {},
   "source": [
    "2 dimensional\n",
    "- columns\n",
    "- rows, records, index"
   ]
  },
  {
   "cell_type": "code",
   "execution_count": 11,
   "id": "6c2014a7-26a8-48f0-8ead-0c3e8de0dbac",
   "metadata": {},
   "outputs": [
    {
     "data": {
      "text/plain": [
       "pandas.core.series.Series"
      ]
     },
     "execution_count": 11,
     "metadata": {},
     "output_type": "execute_result"
    }
   ],
   "source": [
    "type(data[\"gdpPercap_1952\"])"
   ]
  },
  {
   "cell_type": "markdown",
   "id": "73a79d62-421a-42f4-b0d6-70365f9a5c22",
   "metadata": {},
   "source": [
    "# Extracting values\n",
    "\n",
    "- by location\n",
    "- by label"
   ]
  },
  {
   "cell_type": "code",
   "execution_count": 13,
   "id": "53068b16-b0fb-44b6-931b-417afd0bb4a5",
   "metadata": {},
   "outputs": [
    {
     "name": "stdout",
     "output_type": "stream",
     "text": [
      "1942.284244\n"
     ]
    }
   ],
   "source": [
    "print(data.iloc[0,1])"
   ]
  },
  {
   "cell_type": "code",
   "execution_count": 14,
   "id": "d5793861-35eb-472d-b492-66294861cbca",
   "metadata": {},
   "outputs": [
    {
     "data": {
      "text/html": [
       "<div>\n",
       "<style scoped>\n",
       "    .dataframe tbody tr th:only-of-type {\n",
       "        vertical-align: middle;\n",
       "    }\n",
       "\n",
       "    .dataframe tbody tr th {\n",
       "        vertical-align: top;\n",
       "    }\n",
       "\n",
       "    .dataframe thead th {\n",
       "        text-align: right;\n",
       "    }\n",
       "</style>\n",
       "<table border=\"1\" class=\"dataframe\">\n",
       "  <thead>\n",
       "    <tr style=\"text-align: right;\">\n",
       "      <th></th>\n",
       "      <th>gdpPercap_1952</th>\n",
       "      <th>gdpPercap_1957</th>\n",
       "      <th>gdpPercap_1962</th>\n",
       "      <th>gdpPercap_1967</th>\n",
       "      <th>gdpPercap_1972</th>\n",
       "      <th>gdpPercap_1977</th>\n",
       "      <th>gdpPercap_1982</th>\n",
       "      <th>gdpPercap_1987</th>\n",
       "      <th>gdpPercap_1992</th>\n",
       "      <th>gdpPercap_1997</th>\n",
       "      <th>gdpPercap_2002</th>\n",
       "      <th>gdpPercap_2007</th>\n",
       "    </tr>\n",
       "    <tr>\n",
       "      <th>country</th>\n",
       "      <th></th>\n",
       "      <th></th>\n",
       "      <th></th>\n",
       "      <th></th>\n",
       "      <th></th>\n",
       "      <th></th>\n",
       "      <th></th>\n",
       "      <th></th>\n",
       "      <th></th>\n",
       "      <th></th>\n",
       "      <th></th>\n",
       "      <th></th>\n",
       "    </tr>\n",
       "  </thead>\n",
       "  <tbody>\n",
       "    <tr>\n",
       "      <th>Albania</th>\n",
       "      <td>1601.056136</td>\n",
       "      <td>1942.284244</td>\n",
       "      <td>2312.888958</td>\n",
       "      <td>2760.196931</td>\n",
       "      <td>3313.422188</td>\n",
       "      <td>3533.003910</td>\n",
       "      <td>3630.880722</td>\n",
       "      <td>3738.932735</td>\n",
       "      <td>2497.437901</td>\n",
       "      <td>3193.054604</td>\n",
       "      <td>4604.211737</td>\n",
       "      <td>5937.029526</td>\n",
       "    </tr>\n",
       "    <tr>\n",
       "      <th>Austria</th>\n",
       "      <td>6137.076492</td>\n",
       "      <td>8842.598030</td>\n",
       "      <td>10750.721110</td>\n",
       "      <td>12834.602400</td>\n",
       "      <td>16661.625600</td>\n",
       "      <td>19749.422300</td>\n",
       "      <td>21597.083620</td>\n",
       "      <td>23687.826070</td>\n",
       "      <td>27042.018680</td>\n",
       "      <td>29095.920660</td>\n",
       "      <td>32417.607690</td>\n",
       "      <td>36126.492700</td>\n",
       "    </tr>\n",
       "    <tr>\n",
       "      <th>Belgium</th>\n",
       "      <td>8343.105127</td>\n",
       "      <td>9714.960623</td>\n",
       "      <td>10991.206760</td>\n",
       "      <td>13149.041190</td>\n",
       "      <td>16672.143560</td>\n",
       "      <td>19117.974480</td>\n",
       "      <td>20979.845890</td>\n",
       "      <td>22525.563080</td>\n",
       "      <td>25575.570690</td>\n",
       "      <td>27561.196630</td>\n",
       "      <td>30485.883750</td>\n",
       "      <td>33692.605080</td>\n",
       "    </tr>\n",
       "    <tr>\n",
       "      <th>Bosnia and Herzegovina</th>\n",
       "      <td>973.533195</td>\n",
       "      <td>1353.989176</td>\n",
       "      <td>1709.683679</td>\n",
       "      <td>2172.352423</td>\n",
       "      <td>2860.169750</td>\n",
       "      <td>3528.481305</td>\n",
       "      <td>4126.613157</td>\n",
       "      <td>4314.114757</td>\n",
       "      <td>2546.781445</td>\n",
       "      <td>4766.355904</td>\n",
       "      <td>6018.975239</td>\n",
       "      <td>7446.298803</td>\n",
       "    </tr>\n",
       "    <tr>\n",
       "      <th>Bulgaria</th>\n",
       "      <td>2444.286648</td>\n",
       "      <td>3008.670727</td>\n",
       "      <td>4254.337839</td>\n",
       "      <td>5577.002800</td>\n",
       "      <td>6597.494398</td>\n",
       "      <td>7612.240438</td>\n",
       "      <td>8224.191647</td>\n",
       "      <td>8239.854824</td>\n",
       "      <td>6302.623438</td>\n",
       "      <td>5970.388760</td>\n",
       "      <td>7696.777725</td>\n",
       "      <td>10680.792820</td>\n",
       "    </tr>\n",
       "  </tbody>\n",
       "</table>\n",
       "</div>"
      ],
      "text/plain": [
       "                        gdpPercap_1952  gdpPercap_1957  gdpPercap_1962  \\\n",
       "country                                                                  \n",
       "Albania                    1601.056136     1942.284244     2312.888958   \n",
       "Austria                    6137.076492     8842.598030    10750.721110   \n",
       "Belgium                    8343.105127     9714.960623    10991.206760   \n",
       "Bosnia and Herzegovina      973.533195     1353.989176     1709.683679   \n",
       "Bulgaria                   2444.286648     3008.670727     4254.337839   \n",
       "\n",
       "                        gdpPercap_1967  gdpPercap_1972  gdpPercap_1977  \\\n",
       "country                                                                  \n",
       "Albania                    2760.196931     3313.422188     3533.003910   \n",
       "Austria                   12834.602400    16661.625600    19749.422300   \n",
       "Belgium                   13149.041190    16672.143560    19117.974480   \n",
       "Bosnia and Herzegovina     2172.352423     2860.169750     3528.481305   \n",
       "Bulgaria                   5577.002800     6597.494398     7612.240438   \n",
       "\n",
       "                        gdpPercap_1982  gdpPercap_1987  gdpPercap_1992  \\\n",
       "country                                                                  \n",
       "Albania                    3630.880722     3738.932735     2497.437901   \n",
       "Austria                   21597.083620    23687.826070    27042.018680   \n",
       "Belgium                   20979.845890    22525.563080    25575.570690   \n",
       "Bosnia and Herzegovina     4126.613157     4314.114757     2546.781445   \n",
       "Bulgaria                   8224.191647     8239.854824     6302.623438   \n",
       "\n",
       "                        gdpPercap_1997  gdpPercap_2002  gdpPercap_2007  \n",
       "country                                                                 \n",
       "Albania                    3193.054604     4604.211737     5937.029526  \n",
       "Austria                   29095.920660    32417.607690    36126.492700  \n",
       "Belgium                   27561.196630    30485.883750    33692.605080  \n",
       "Bosnia and Herzegovina     4766.355904     6018.975239     7446.298803  \n",
       "Bulgaria                   5970.388760     7696.777725    10680.792820  "
      ]
     },
     "execution_count": 14,
     "metadata": {},
     "output_type": "execute_result"
    }
   ],
   "source": [
    "data.head()"
   ]
  },
  {
   "cell_type": "code",
   "execution_count": 16,
   "id": "a2f42e40-70be-4fc4-bb2a-9176f5dd715c",
   "metadata": {},
   "outputs": [
    {
     "name": "stdout",
     "output_type": "stream",
     "text": [
      "1942.284244\n"
     ]
    }
   ],
   "source": [
    "print(data.loc[\"Albania\",\"gdpPercap_1957\"])"
   ]
  },
  {
   "cell_type": "code",
   "execution_count": 17,
   "id": "90dba327-f3d9-4964-bc45-34eda14763e4",
   "metadata": {},
   "outputs": [],
   "source": [
    "# Slicing"
   ]
  },
  {
   "cell_type": "code",
   "execution_count": 18,
   "id": "84bc7e28-d9c9-4990-9ac1-bbbbff6e715f",
   "metadata": {},
   "outputs": [
    {
     "name": "stdout",
     "output_type": "stream",
     "text": [
      "6137.076492\n",
      "8343.105127\n"
     ]
    }
   ],
   "source": [
    "# select gdpPercap_1952 for Austria and Belgium\n",
    "print(data.iloc[1,0])\n",
    "print(data.iloc[2,0])"
   ]
  },
  {
   "cell_type": "code",
   "execution_count": 19,
   "id": "381214ac-6341-45c6-a432-b7c177e55d28",
   "metadata": {},
   "outputs": [
    {
     "name": "stdout",
     "output_type": "stream",
     "text": [
      "country\n",
      "Austria    6137.076492\n",
      "Belgium    8343.105127\n",
      "Name: gdpPercap_1952, dtype: float64\n"
     ]
    }
   ],
   "source": [
    "print(data.iloc[1:3,0])"
   ]
  },
  {
   "cell_type": "code",
   "execution_count": 20,
   "id": "388809a4-b10e-4b1f-ae10-ad3ad2d3ece8",
   "metadata": {},
   "outputs": [
    {
     "name": "stdout",
     "output_type": "stream",
     "text": [
      "country\n",
      "Austria    6137.076492\n",
      "Belgium    8343.105127\n",
      "Name: gdpPercap_1952, dtype: float64\n"
     ]
    }
   ],
   "source": [
    "print(data.loc[\"Austria\":\"Belgium\",\"gdpPercap_1952\"])"
   ]
  },
  {
   "cell_type": "code",
   "execution_count": 21,
   "id": "9d05f3b4-4a18-4410-88dc-4ce16270d954",
   "metadata": {},
   "outputs": [
    {
     "name": "stdout",
     "output_type": "stream",
     "text": [
      "8343.105127\n"
     ]
    }
   ],
   "source": [
    "print(data.iloc[1:3,0].max())"
   ]
  },
  {
   "cell_type": "code",
   "execution_count": null,
   "id": "8c831df9-222d-4146-8ce5-12cbc3542ec9",
   "metadata": {},
   "outputs": [],
   "source": []
  }
 ],
 "metadata": {
  "kernelspec": {
   "display_name": "Python 3 (ipykernel)",
   "language": "python",
   "name": "python3"
  },
  "language_info": {
   "codemirror_mode": {
    "name": "ipython",
    "version": 3
   },
   "file_extension": ".py",
   "mimetype": "text/x-python",
   "name": "python",
   "nbconvert_exporter": "python",
   "pygments_lexer": "ipython3",
   "version": "3.12.5"
  }
 },
 "nbformat": 4,
 "nbformat_minor": 5
}
