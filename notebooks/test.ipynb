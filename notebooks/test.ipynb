{
 "cells": [
  {
   "cell_type": "markdown",
   "id": "337b853e-302f-4dc6-b6f6-81676b1abef2",
   "metadata": {},
   "source": [
    "Markdown "
   ]
  },
  {
   "cell_type": "code",
   "execution_count": 1,
   "id": "a0f38c3a-a1eb-453c-b4a8-8be1959b64fd",
   "metadata": {},
   "outputs": [
    {
     "name": "stdout",
     "output_type": "stream",
     "text": [
      "FOO\n"
     ]
    }
   ],
   "source": [
    "print (\"FOO\")"
   ]
  },
  {
   "cell_type": "code",
   "execution_count": null,
   "id": "e836f9ef-3d6c-449f-b948-40d509644d1b",
   "metadata": {},
   "outputs": [],
   "source": []
  }
 ],
 "metadata": {
  "kernelspec": {
   "display_name": "Python 3 (ipykernel)",
   "language": "python",
   "name": "python3"
  },
  "language_info": {
   "codemirror_mode": {
    "name": "ipython",
    "version": 3
   },
   "file_extension": ".py",
   "mimetype": "text/x-python",
   "name": "python",
   "nbconvert_exporter": "python",
   "pygments_lexer": "ipython3",
   "version": "3.12.5"
  }
 },
 "nbformat": 4,
 "nbformat_minor": 5
}
