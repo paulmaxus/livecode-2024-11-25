{
 "cells": [
  {
   "cell_type": "markdown",
   "id": "ab0119d6-e1ac-4cf3-94a0-fe58a269a156",
   "metadata": {},
   "source": [
    "# For loops\n"
   ]
  },
  {
   "cell_type": "code",
   "execution_count": 1,
   "id": "a259d021-adfc-4e68-a06b-53f49ee2b7f5",
   "metadata": {},
   "outputs": [],
   "source": [
    "my_ages = [45, 23, 78]"
   ]
  },
  {
   "cell_type": "code",
   "execution_count": 2,
   "id": "9c880467-ab37-4b69-91f5-88a2d3a1d18b",
   "metadata": {},
   "outputs": [
    {
     "name": "stdout",
     "output_type": "stream",
     "text": [
      "46\n"
     ]
    }
   ],
   "source": [
    "print(my_ages[0]+1)"
   ]
  },
  {
   "cell_type": "code",
   "execution_count": 3,
   "id": "fff62789-e024-4858-86ab-002de0c1d515",
   "metadata": {},
   "outputs": [
    {
     "name": "stdout",
     "output_type": "stream",
     "text": [
      "24\n"
     ]
    }
   ],
   "source": [
    "print(my_ages[1]+1)"
   ]
  },
  {
   "cell_type": "code",
   "execution_count": null,
   "id": "95862685-47bb-40f9-b4d2-d35b39566a75",
   "metadata": {},
   "outputs": [],
   "source": [
    "for age in my_ages:\n",
    "    print(age)"
   ]
  }
 ],
 "metadata": {
  "kernelspec": {
   "display_name": "Python 3 (ipykernel)",
   "language": "python",
   "name": "python3"
  },
  "language_info": {
   "codemirror_mode": {
    "name": "ipython",
    "version": 3
   },
   "file_extension": ".py",
   "mimetype": "text/x-python",
   "name": "python",
   "nbconvert_exporter": "python",
   "pygments_lexer": "ipython3",
   "version": "3.12.5"
  }
 },
 "nbformat": 4,
 "nbformat_minor": 5
}
