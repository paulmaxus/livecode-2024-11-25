{
 "cells": [
  {
   "cell_type": "markdown",
   "id": "ab0119d6-e1ac-4cf3-94a0-fe58a269a156",
   "metadata": {},
   "source": [
    "# For loops\n",
    "\n",
    "Loops are a way of doing the same thing multiple times on a collection (like a list). \n",
    "\n",
    "Suppose we wanted to add 1 to every value in a list. \n"
   ]
  },
  {
   "cell_type": "code",
   "execution_count": 73,
   "id": "a259d021-adfc-4e68-a06b-53f49ee2b7f5",
   "metadata": {},
   "outputs": [],
   "source": [
    "my_ages = [45, 23, 78]"
   ]
  },
  {
   "cell_type": "code",
   "execution_count": 74,
   "id": "9c880467-ab37-4b69-91f5-88a2d3a1d18b",
   "metadata": {},
   "outputs": [
    {
     "name": "stdout",
     "output_type": "stream",
     "text": [
      "46\n"
     ]
    }
   ],
   "source": [
    "print(my_ages[0]+1)"
   ]
  },
  {
   "cell_type": "code",
   "execution_count": 75,
   "id": "fff62789-e024-4858-86ab-002de0c1d515",
   "metadata": {},
   "outputs": [
    {
     "name": "stdout",
     "output_type": "stream",
     "text": [
      "24\n"
     ]
    }
   ],
   "source": [
    "print(my_ages[1]+1)"
   ]
  },
  {
   "cell_type": "markdown",
   "id": "d0d3c7bc-cc65-4b26-8df0-5d91686655cf",
   "metadata": {},
   "source": [
    "This is obviously not efficient, even for short lists. We can instead use a `for` loop\n",
    "\n",
    "A `for` loop starts with the *keyword* for, followed by the name of the variable that will be changed with every loop, then `in` and the name of the variable that you want to loop through (*iterator variable*) and a colon `:`. Code is then written in an indented block (4 spaces or a tab in front of each line in the block)"
   ]
  },
  {
   "cell_type": "code",
   "execution_count": 76,
   "id": "95862685-47bb-40f9-b4d2-d35b39566a75",
   "metadata": {},
   "outputs": [
    {
     "name": "stdout",
     "output_type": "stream",
     "text": [
      "45\n",
      "23\n",
      "78\n"
     ]
    }
   ],
   "source": [
    "for age in my_ages:\n",
    "    print(age)"
   ]
  },
  {
   "cell_type": "code",
   "execution_count": 77,
   "id": "55e84ba4-0b4d-4be3-913c-b98fec34399e",
   "metadata": {},
   "outputs": [
    {
     "name": "stdout",
     "output_type": "stream",
     "text": [
      "46\n",
      "24\n",
      "79\n"
     ]
    }
   ],
   "source": [
    "for age in my_ages:\n",
    "    print(age+1) # perform a calculation"
   ]
  },
  {
   "cell_type": "markdown",
   "id": "a1cf3730-9910-4de2-b340-3bce5943491b",
   "metadata": {},
   "source": [
    "### Notes about iterator variables\n",
    "\n",
    "The *iterator variable* can be named whatever you like, but it is best to name them sensibly."
   ]
  },
  {
   "cell_type": "code",
   "execution_count": 78,
   "id": "4d59ada3-7f03-4e06-9f61-d06be4b32513",
   "metadata": {},
   "outputs": [
    {
     "name": "stdout",
     "output_type": "stream",
     "text": [
      "45\n",
      "23\n",
      "78\n"
     ]
    }
   ],
   "source": [
    "for bananas in my_ages:\n",
    "    print(bananas)#bananas??"
   ]
  },
  {
   "cell_type": "markdown",
   "id": "3386c640-4c71-4029-ade4-34b514f1c224",
   "metadata": {},
   "source": [
    "It should be noted that using the same name for the iterator variable as an existing variable will overwrite it."
   ]
  },
  {
   "cell_type": "code",
   "execution_count": 79,
   "id": "9c33c845-60c2-4a02-9191-833804a8fa7b",
   "metadata": {},
   "outputs": [
    {
     "name": "stdout",
     "output_type": "stream",
     "text": [
      "42\n"
     ]
    }
   ],
   "source": [
    "# Define age\n",
    "age = 42\n",
    "print(age)"
   ]
  },
  {
   "cell_type": "code",
   "execution_count": 80,
   "id": "9a76e3e6-8765-4e04-b660-127a5532eb65",
   "metadata": {
    "scrolled": true
   },
   "outputs": [
    {
     "name": "stdout",
     "output_type": "stream",
     "text": [
      "45\n",
      "23\n",
      "78\n"
     ]
    }
   ],
   "source": [
    "# Also use age as an iterator variable\n",
    "for age in my_ages:\n",
    "    print(age)"
   ]
  },
  {
   "cell_type": "code",
   "execution_count": 81,
   "id": "ca8b35ad-7d37-4d43-90ae-c45eb263472f",
   "metadata": {},
   "outputs": [
    {
     "name": "stdout",
     "output_type": "stream",
     "text": [
      "78\n"
     ]
    }
   ],
   "source": [
    "# Age has been replaced by the last value of age in the loop\n",
    "print(age)"
   ]
  },
  {
   "cell_type": "markdown",
   "id": "9cd19e18-dca7-4109-a431-a55068b7b3fb",
   "metadata": {},
   "source": [
    "The fact that the iterator variable is accessible outside the loop can be useful for bugfixing"
   ]
  },
  {
   "cell_type": "code",
   "execution_count": 82,
   "id": "ee2a8b80-e566-44cc-aa67-9e0643e6af94",
   "metadata": {},
   "outputs": [],
   "source": [
    "# This will throw an error when it tries to add 1 to banana\n",
    "#for age in [1, 2, \"banana\", 4]:\n",
    "#    print(age+1)"
   ]
  },
  {
   "cell_type": "markdown",
   "id": "49e4ab02-ba10-46cd-be57-483935dacc3a",
   "metadata": {},
   "source": [
    "After an error we could print the value of our iterator variable (age) to see what the value was when the code crashed"
   ]
  },
  {
   "cell_type": "code",
   "execution_count": 83,
   "id": "14bcbe74-32e5-4684-8118-7df4103b5525",
   "metadata": {},
   "outputs": [],
   "source": [
    "#print(age)"
   ]
  },
  {
   "cell_type": "markdown",
   "id": "8d614b52-7ca2-4d33-9d42-08e70a23494a",
   "metadata": {},
   "source": [
    "### Indentations are important\n",
    "\n",
    "Indentations are very important. Only indented lines are considered part of the loop. "
   ]
  },
  {
   "cell_type": "code",
   "execution_count": 84,
   "id": "2c843893-1b26-4920-8ed9-77346cc4ef34",
   "metadata": {},
   "outputs": [
    {
     "name": "stdout",
     "output_type": "stream",
     "text": [
      "1\n",
      "3\n",
      "Finished printing age  1\n",
      "2\n",
      "4\n",
      "Finished printing age  2\n",
      "3\n",
      "5\n",
      "Finished printing age  3\n",
      "4\n",
      "6\n",
      "Finished printing age  4\n"
     ]
    }
   ],
   "source": [
    "# All lines indented.\n",
    "my_ages = [1, 2, 3, 4]\n",
    "for age in my_ages:\n",
    "    print(age)\n",
    "    print(age+2)\n",
    "    print(\"Finished printing age \",age)"
   ]
  },
  {
   "cell_type": "code",
   "execution_count": 85,
   "id": "709b862e-266f-43aa-befa-35385501fa54",
   "metadata": {},
   "outputs": [
    {
     "name": "stdout",
     "output_type": "stream",
     "text": [
      "1\n",
      "Finished printing age  1\n",
      "2\n",
      "Finished printing age  2\n",
      "3\n",
      "Finished printing age  3\n",
      "4\n",
      "Finished printing age  4\n",
      "loop over\n",
      "6\n"
     ]
    }
   ],
   "source": [
    "# the final age+2 is not contained within the loop, so is executed afterwards.\n",
    "my_ages = [1, 2, 3, 4]\n",
    "for age in my_ages:\n",
    "    print(age)\n",
    "    print(\"Finished printing age \",age)\n",
    "print(\"loop over\")\n",
    "print(age+2) # Not in the loop, just whatever the final value of age was,+2\n",
    "\n"
   ]
  },
  {
   "cell_type": "markdown",
   "id": "417e10fc-6b8f-40a4-84d9-3867a64e5c16",
   "metadata": {},
   "source": [
    "### Getting values out of a loop\n",
    "\n",
    "Printing values in a loop is nice, and a good thing to do to see how your code is running. However it is likely you want to save the results of calculations inside the loop."
   ]
  },
  {
   "cell_type": "code",
   "execution_count": 86,
   "id": "52fb8a50-c3ec-48ab-9a89-473491d37fae",
   "metadata": {},
   "outputs": [
    {
     "name": "stdout",
     "output_type": "stream",
     "text": [
      "Start length:  0\n",
      "55\n",
      "New length:  1\n",
      "35\n",
      "New length:  2\n",
      "24\n",
      "New length:  3\n",
      "46\n",
      "New length:  4\n",
      "[55, 35, 24, 46]\n"
     ]
    }
   ],
   "source": [
    "\n",
    "my_ages = [54, 34, 23, 45] #what we will loop through\n",
    "my_ages_next_year = [] #empty list to store results in\n",
    "\n",
    "print(\"Start length: \",len(my_ages_next_year))#print the starting length of our results list\n",
    "for age in my_ages:\n",
    "    new_age = age + 1 #calculate and store result in variable\n",
    "    print(new_age) #print calculation result\n",
    "    my_ages_next_year.append(new_age) #add result of calculation to results list\n",
    "    print(\"New length: \",len(my_ages_next_year))#print the starting length of our results list\n",
    "\n",
    "print(my_ages_next_year) #print results\n",
    "\n"
   ]
  },
  {
   "cell_type": "code",
   "execution_count": 87,
   "id": "2b147477-a054-44b4-a748-93e778942e8f",
   "metadata": {},
   "outputs": [
    {
     "name": "stdout",
     "output_type": "stream",
     "text": [
      "3\n",
      "5\n",
      "4\n",
      "[3, 5, 4]\n"
     ]
    }
   ],
   "source": [
    "# List of words\n",
    "words = [\"red\", \"green\", \"blue\"]\n",
    "\n",
    "# Using loops, \n",
    "# calculate the length of each word\n",
    "# If you feel confident,\n",
    "# Store the lengths in a list\n",
    "word_lengths = []\n",
    "for word in words:\n",
    "    word_len = len(word)\n",
    "    print(word_len)\n",
    "    word_lengths.append(word_len)\n",
    "    \n",
    "print (word_lengths)\n"
   ]
  },
  {
   "cell_type": "markdown",
   "id": "9034b72c-cbfa-4aae-bbe4-77422487014b",
   "metadata": {},
   "source": [
    "### Ranges to generate number sequences\n",
    "If we want to generate a sequence of numbers, we can use the range function"
   ]
  },
  {
   "cell_type": "code",
   "execution_count": 88,
   "id": "4ca04c3b-b787-440f-be20-57d0137cc5e3",
   "metadata": {},
   "outputs": [
    {
     "name": "stdout",
     "output_type": "stream",
     "text": [
      "0\n",
      "1\n",
      "2\n",
      "3\n",
      "4\n",
      "5\n",
      "6\n",
      "7\n",
      "8\n",
      "9\n"
     ]
    }
   ],
   "source": [
    "for number in range(10):\n",
    "    print(number)"
   ]
  },
  {
   "cell_type": "markdown",
   "id": "8ae81092-2252-40f0-bb9a-dded6d42062c",
   "metadata": {},
   "source": [
    "Range starts from 0 by default, and the second value is not inclusive. So if we want 1 to 10:"
   ]
  },
  {
   "cell_type": "code",
   "execution_count": 89,
   "id": "3a63f3e5-b7ab-4c65-a342-e32dd950c6d9",
   "metadata": {},
   "outputs": [
    {
     "name": "stdout",
     "output_type": "stream",
     "text": [
      "1\n",
      "2\n",
      "3\n",
      "4\n",
      "5\n",
      "6\n",
      "7\n",
      "8\n",
      "9\n",
      "10\n"
     ]
    }
   ],
   "source": [
    "for number in range(1,11):\n",
    "    print(number)"
   ]
  },
  {
   "cell_type": "code",
   "execution_count": 90,
   "id": "6fe0878e-e3bf-40e6-9a0b-c3ccb67f3730",
   "metadata": {},
   "outputs": [],
   "source": [
    "my_range = range(1, 11)"
   ]
  },
  {
   "cell_type": "code",
   "execution_count": 91,
   "id": "26375973-966e-4673-a90e-44ef2f6ae7d6",
   "metadata": {},
   "outputs": [
    {
     "name": "stdout",
     "output_type": "stream",
     "text": [
      "range(1, 11)\n",
      "1\n",
      "2\n",
      "3\n",
      "4\n",
      "5\n",
      "6\n",
      "7\n",
      "8\n",
      "9\n",
      "10\n"
     ]
    }
   ],
   "source": [
    "print(my_range) # Not a list\n",
    "\n",
    "for number in my_range:\n",
    "    print(number)"
   ]
  },
  {
   "cell_type": "markdown",
   "id": "727c1d08-9038-4374-a81f-f21289e5197f",
   "metadata": {},
   "source": [
    "### Accumulator pattern\n",
    "A different way of storing the results of a loop in a single value"
   ]
  },
  {
   "cell_type": "code",
   "execution_count": 92,
   "id": "6c37ed5c-b9df-43c7-95d7-533dba28d5ea",
   "metadata": {},
   "outputs": [
    {
     "name": "stdout",
     "output_type": "stream",
     "text": [
      "L\n",
      "i\n",
      "t\n",
      "h\n",
      "i\n",
      "u\n",
      "m\n",
      "length of word is  7\n"
     ]
    }
   ],
   "source": [
    "my_word = \"Lithium\"\n",
    "#Loop through and print \n",
    "# every letter in this word\n",
    "# Calculate word length without using len\n",
    "\n",
    "# Create a variable to count the length of the word\n",
    "length_word = 0\n",
    "\n",
    "for letter in my_word:\n",
    "    print(letter)\n",
    "    # Calculate length_word + 1\n",
    "    new_value = length_word + 1\n",
    "    # Replace length_word with the new value (length_word + 1)\n",
    "    length_word = new_value\n",
    "    # length_word will increase in size by 1 every loop.\n",
    "\n",
    "print (\"length of word is\",length_word)\n",
    "\n"
   ]
  },
  {
   "cell_type": "code",
   "execution_count": null,
   "id": "aa689c06-527a-405b-852b-bcf63b108ca5",
   "metadata": {},
   "outputs": [],
   "source": []
  }
 ],
 "metadata": {
  "kernelspec": {
   "display_name": "Python 3 (ipykernel)",
   "language": "python",
   "name": "python3"
  },
  "language_info": {
   "codemirror_mode": {
    "name": "ipython",
    "version": 3
   },
   "file_extension": ".py",
   "mimetype": "text/x-python",
   "name": "python",
   "nbconvert_exporter": "python",
   "pygments_lexer": "ipython3",
   "version": "3.12.5"
  }
 },
 "nbformat": 4,
 "nbformat_minor": 5
}
