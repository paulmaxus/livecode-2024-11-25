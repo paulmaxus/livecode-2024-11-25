{
 "cells": [
  {
   "cell_type": "markdown",
   "id": "ab0119d6-e1ac-4cf3-94a0-fe58a269a156",
   "metadata": {},
   "source": [
    "# For loops\n"
   ]
  },
  {
   "cell_type": "code",
   "execution_count": 1,
   "id": "a259d021-adfc-4e68-a06b-53f49ee2b7f5",
   "metadata": {},
   "outputs": [],
   "source": [
    "my_ages = [45, 23, 78]"
   ]
  },
  {
   "cell_type": "code",
   "execution_count": 2,
   "id": "9c880467-ab37-4b69-91f5-88a2d3a1d18b",
   "metadata": {},
   "outputs": [
    {
     "name": "stdout",
     "output_type": "stream",
     "text": [
      "46\n"
     ]
    }
   ],
   "source": [
    "print(my_ages[0]+1)"
   ]
  },
  {
   "cell_type": "code",
   "execution_count": 3,
   "id": "fff62789-e024-4858-86ab-002de0c1d515",
   "metadata": {},
   "outputs": [
    {
     "name": "stdout",
     "output_type": "stream",
     "text": [
      "24\n"
     ]
    }
   ],
   "source": [
    "print(my_ages[1]+1)"
   ]
  },
  {
   "cell_type": "code",
   "execution_count": 4,
   "id": "95862685-47bb-40f9-b4d2-d35b39566a75",
   "metadata": {},
   "outputs": [
    {
     "name": "stdout",
     "output_type": "stream",
     "text": [
      "45\n",
      "23\n",
      "78\n"
     ]
    }
   ],
   "source": [
    "for age in my_ages:\n",
    "    print(age)"
   ]
  },
  {
   "cell_type": "code",
   "execution_count": 5,
   "id": "55e84ba4-0b4d-4be3-913c-b98fec34399e",
   "metadata": {},
   "outputs": [
    {
     "name": "stdout",
     "output_type": "stream",
     "text": [
      "46\n",
      "24\n",
      "79\n"
     ]
    }
   ],
   "source": [
    "for age in my_ages:\n",
    "    print(age+1)"
   ]
  },
  {
   "cell_type": "code",
   "execution_count": 6,
   "id": "4d59ada3-7f03-4e06-9f61-d06be4b32513",
   "metadata": {},
   "outputs": [
    {
     "name": "stdout",
     "output_type": "stream",
     "text": [
      "45\n",
      "23\n",
      "78\n"
     ]
    }
   ],
   "source": [
    "for bananas in my_ages:\n",
    "    print(bananas)"
   ]
  },
  {
   "cell_type": "code",
   "execution_count": 9,
   "id": "9c33c845-60c2-4a02-9191-833804a8fa7b",
   "metadata": {},
   "outputs": [
    {
     "name": "stdout",
     "output_type": "stream",
     "text": [
      "42\n"
     ]
    }
   ],
   "source": [
    "age = 42\n",
    "print(age)"
   ]
  },
  {
   "cell_type": "code",
   "execution_count": 10,
   "id": "9a76e3e6-8765-4e04-b660-127a5532eb65",
   "metadata": {
    "scrolled": true
   },
   "outputs": [
    {
     "name": "stdout",
     "output_type": "stream",
     "text": [
      "45\n",
      "23\n",
      "78\n"
     ]
    }
   ],
   "source": [
    "for age in my_ages:\n",
    "    print(age)"
   ]
  },
  {
   "cell_type": "code",
   "execution_count": 11,
   "id": "ca8b35ad-7d37-4d43-90ae-c45eb263472f",
   "metadata": {},
   "outputs": [
    {
     "name": "stdout",
     "output_type": "stream",
     "text": [
      "78\n"
     ]
    }
   ],
   "source": [
    "print(age)"
   ]
  },
  {
   "cell_type": "code",
   "execution_count": 14,
   "id": "ee2a8b80-e566-44cc-aa67-9e0643e6af94",
   "metadata": {},
   "outputs": [
    {
     "name": "stdout",
     "output_type": "stream",
     "text": [
      "2\n",
      "3\n"
     ]
    },
    {
     "ename": "TypeError",
     "evalue": "can only concatenate str (not \"int\") to str",
     "output_type": "error",
     "traceback": [
      "\u001b[1;31m---------------------------------------------------------------------------\u001b[0m",
      "\u001b[1;31mTypeError\u001b[0m                                 Traceback (most recent call last)",
      "Cell \u001b[1;32mIn[14], line 2\u001b[0m\n\u001b[0;32m      1\u001b[0m \u001b[38;5;28;01mfor\u001b[39;00m age \u001b[38;5;129;01min\u001b[39;00m [\u001b[38;5;241m1\u001b[39m, \u001b[38;5;241m2\u001b[39m, \u001b[38;5;124m\"\u001b[39m\u001b[38;5;124mbanana\u001b[39m\u001b[38;5;124m\"\u001b[39m, \u001b[38;5;241m4\u001b[39m]:\n\u001b[1;32m----> 2\u001b[0m     \u001b[38;5;28mprint\u001b[39m(\u001b[43mage\u001b[49m\u001b[38;5;241;43m+\u001b[39;49m\u001b[38;5;241;43m1\u001b[39;49m)\n",
      "\u001b[1;31mTypeError\u001b[0m: can only concatenate str (not \"int\") to str"
     ]
    }
   ],
   "source": [
    "for age in [1, 2, \"banana\", 4]:\n",
    "    print(age+1)"
   ]
  },
  {
   "cell_type": "code",
   "execution_count": 15,
   "id": "14bcbe74-32e5-4684-8118-7df4103b5525",
   "metadata": {},
   "outputs": [
    {
     "name": "stdout",
     "output_type": "stream",
     "text": [
      "banana\n"
     ]
    }
   ],
   "source": [
    "print(age)"
   ]
  },
  {
   "cell_type": "code",
   "execution_count": 16,
   "id": "2c843893-1b26-4920-8ed9-77346cc4ef34",
   "metadata": {},
   "outputs": [
    {
     "name": "stdout",
     "output_type": "stream",
     "text": [
      "1\n",
      "2\n",
      "3\n",
      "2\n",
      "3\n",
      "4\n",
      "3\n",
      "4\n",
      "5\n",
      "4\n",
      "5\n",
      "6\n"
     ]
    }
   ],
   "source": [
    "my_ages = [1, 2, 3, 4]\n",
    "for age in my_ages:\n",
    "    print(age)\n",
    "    print(age+1)\n",
    "    print(age+2)"
   ]
  },
  {
   "cell_type": "code",
   "execution_count": 19,
   "id": "709b862e-266f-43aa-befa-35385501fa54",
   "metadata": {},
   "outputs": [
    {
     "name": "stdout",
     "output_type": "stream",
     "text": [
      "1\n",
      "Finished printing age  1\n",
      "2\n",
      "Finished printing age  2\n",
      "3\n",
      "Finished printing age  3\n",
      "4\n",
      "Finished printing age  4\n",
      "loop over\n",
      "6\n"
     ]
    }
   ],
   "source": [
    "my_ages = [1, 2, 3, 4]\n",
    "for age in my_ages:\n",
    "    print(age)\n",
    "    print(\"Finished printing age \",age)\n",
    "print(\"loop over\")\n",
    "print(age+2)\n",
    "\n"
   ]
  },
  {
   "cell_type": "code",
   "execution_count": 20,
   "id": "52fb8a50-c3ec-48ab-9a89-473491d37fae",
   "metadata": {},
   "outputs": [
    {
     "name": "stdout",
     "output_type": "stream",
     "text": [
      "55\n",
      "35\n",
      "24\n",
      "46\n",
      "[55, 35, 24, 46]\n"
     ]
    }
   ],
   "source": [
    "my_ages = [54, 34, 23, 45]\n",
    "my_ages_next_year = []\n",
    "\n",
    "for age in my_ages:\n",
    "    new_age = age + 1\n",
    "    print(new_age)\n",
    "    my_ages_next_year.append(new_age)\n",
    "\n",
    "print(my_ages_next_year)"
   ]
  },
  {
   "cell_type": "code",
   "execution_count": null,
   "id": "2b147477-a054-44b4-a748-93e778942e8f",
   "metadata": {},
   "outputs": [],
   "source": []
  }
 ],
 "metadata": {
  "kernelspec": {
   "display_name": "Python 3 (ipykernel)",
   "language": "python",
   "name": "python3"
  },
  "language_info": {
   "codemirror_mode": {
    "name": "ipython",
    "version": 3
   },
   "file_extension": ".py",
   "mimetype": "text/x-python",
   "name": "python",
   "nbconvert_exporter": "python",
   "pygments_lexer": "ipython3",
   "version": "3.12.5"
  }
 },
 "nbformat": 4,
 "nbformat_minor": 5
}
