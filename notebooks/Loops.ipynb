{
 "cells": [
  {
   "cell_type": "markdown",
   "id": "ab0119d6-e1ac-4cf3-94a0-fe58a269a156",
   "metadata": {},
   "source": [
    "# For loops\n"
   ]
  },
  {
   "cell_type": "code",
   "execution_count": 1,
   "id": "a259d021-adfc-4e68-a06b-53f49ee2b7f5",
   "metadata": {},
   "outputs": [],
   "source": [
    "my_ages = [45, 23, 78]"
   ]
  },
  {
   "cell_type": "code",
   "execution_count": 2,
   "id": "9c880467-ab37-4b69-91f5-88a2d3a1d18b",
   "metadata": {},
   "outputs": [
    {
     "name": "stdout",
     "output_type": "stream",
     "text": [
      "46\n"
     ]
    }
   ],
   "source": [
    "print(my_ages[0]+1)"
   ]
  },
  {
   "cell_type": "code",
   "execution_count": 3,
   "id": "fff62789-e024-4858-86ab-002de0c1d515",
   "metadata": {},
   "outputs": [
    {
     "name": "stdout",
     "output_type": "stream",
     "text": [
      "24\n"
     ]
    }
   ],
   "source": [
    "print(my_ages[1]+1)"
   ]
  },
  {
   "cell_type": "code",
   "execution_count": 4,
   "id": "95862685-47bb-40f9-b4d2-d35b39566a75",
   "metadata": {},
   "outputs": [
    {
     "name": "stdout",
     "output_type": "stream",
     "text": [
      "45\n",
      "23\n",
      "78\n"
     ]
    }
   ],
   "source": [
    "for age in my_ages:\n",
    "    print(age)"
   ]
  },
  {
   "cell_type": "code",
   "execution_count": 5,
   "id": "55e84ba4-0b4d-4be3-913c-b98fec34399e",
   "metadata": {},
   "outputs": [
    {
     "name": "stdout",
     "output_type": "stream",
     "text": [
      "46\n",
      "24\n",
      "79\n"
     ]
    }
   ],
   "source": [
    "for age in my_ages:\n",
    "    print(age+1)"
   ]
  },
  {
   "cell_type": "code",
   "execution_count": 6,
   "id": "4d59ada3-7f03-4e06-9f61-d06be4b32513",
   "metadata": {},
   "outputs": [
    {
     "name": "stdout",
     "output_type": "stream",
     "text": [
      "45\n",
      "23\n",
      "78\n"
     ]
    }
   ],
   "source": [
    "for bananas in my_ages:\n",
    "    print(bananas)"
   ]
  },
  {
   "cell_type": "code",
   "execution_count": null,
   "id": "9c33c845-60c2-4a02-9191-833804a8fa7b",
   "metadata": {},
   "outputs": [],
   "source": []
  },
  {
   "cell_type": "code",
   "execution_count": 7,
   "id": "9a76e3e6-8765-4e04-b660-127a5532eb65",
   "metadata": {},
   "outputs": [
    {
     "name": "stdout",
     "output_type": "stream",
     "text": [
      "45\n",
      "23\n",
      "78\n"
     ]
    }
   ],
   "source": [
    "\n",
    "for age in my_ages:\n",
    "    print(age)"
   ]
  },
  {
   "cell_type": "code",
   "execution_count": 8,
   "id": "ca8b35ad-7d37-4d43-90ae-c45eb263472f",
   "metadata": {},
   "outputs": [
    {
     "name": "stdout",
     "output_type": "stream",
     "text": [
      "78\n"
     ]
    }
   ],
   "source": [
    "print(age)"
   ]
  },
  {
   "cell_type": "code",
   "execution_count": null,
   "id": "ee2a8b80-e566-44cc-aa67-9e0643e6af94",
   "metadata": {},
   "outputs": [],
   "source": []
  }
 ],
 "metadata": {
  "kernelspec": {
   "display_name": "Python 3 (ipykernel)",
   "language": "python",
   "name": "python3"
  },
  "language_info": {
   "codemirror_mode": {
    "name": "ipython",
    "version": 3
   },
   "file_extension": ".py",
   "mimetype": "text/x-python",
   "name": "python",
   "nbconvert_exporter": "python",
   "pygments_lexer": "ipython3",
   "version": "3.12.5"
  }
 },
 "nbformat": 4,
 "nbformat_minor": 5
}
