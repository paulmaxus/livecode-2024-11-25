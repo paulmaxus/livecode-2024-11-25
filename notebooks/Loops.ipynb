{
 "cells": [
  {
   "cell_type": "markdown",
   "id": "ab0119d6-e1ac-4cf3-94a0-fe58a269a156",
   "metadata": {},
   "source": [
    "# For loops\n"
   ]
  }
 ],
 "metadata": {
  "kernelspec": {
   "display_name": "Python 3 (ipykernel)",
   "language": "python",
   "name": "python3"
  },
  "language_info": {
   "codemirror_mode": {
    "name": "ipython",
    "version": 3
   },
   "file_extension": ".py",
   "mimetype": "text/x-python",
   "name": "python",
   "nbconvert_exporter": "python",
   "pygments_lexer": "ipython3",
   "version": "3.12.5"
  }
 },
 "nbformat": 4,
 "nbformat_minor": 5
}
