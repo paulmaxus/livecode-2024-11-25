{
 "cells": [
  {
   "cell_type": "code",
   "execution_count": null,
   "id": "fc9b1b70-be72-4e9c-9159-160c2d0f7e57",
   "metadata": {},
   "outputs": [],
   "source": [
    "import pandas as pd"
   ]
  },
  {
   "cell_type": "code",
   "execution_count": null,
   "id": "6510e384-f52c-4a47-93ad-4f3ff06a8d86",
   "metadata": {},
   "outputs": [],
   "source": [
    "data_subset = pd.read_csv(\"../data/gapminder_all.csv\", usecols=[0,1,3])"
   ]
  },
  {
   "cell_type": "code",
   "execution_count": null,
   "id": "44de6202-bae4-424a-84f7-b6cc14089581",
   "metadata": {},
   "outputs": [],
   "source": [
    "data_subset.head()"
   ]
  },
  {
   "cell_type": "code",
   "execution_count": null,
   "id": "91a52efb-8dba-47c5-b6fd-2ed9a7183250",
   "metadata": {},
   "outputs": [],
   "source": [
    "data_merged = data_subset.merge(data_subset, how=\"left\", on=\"continent\")"
   ]
  },
  {
   "cell_type": "code",
   "execution_count": null,
   "id": "a9208cc8-d02c-4dbc-b4eb-71587838f8ae",
   "metadata": {},
   "outputs": [],
   "source": [
    "data_merged.head()"
   ]
  },
  {
   "cell_type": "code",
   "execution_count": null,
   "id": "dd7c4c4f-8256-49e4-86b1-9b4c04604b53",
   "metadata": {},
   "outputs": [],
   "source": [
    "data_merged[\"diff\"] = data_merged[\"gdpPercap_1957_x\"] - data_merged[\"gdpPercap_1957_y\"]"
   ]
  },
  {
   "cell_type": "code",
   "execution_count": null,
   "id": "5400fa8a-8b44-4a0e-89c6-9db19dd951db",
   "metadata": {},
   "outputs": [],
   "source": [
    "data_merged.head()"
   ]
  }
 ],
 "metadata": {
  "kernelspec": {
   "display_name": "Python 3 (ipykernel)",
   "language": "python",
   "name": "python3"
  },
  "language_info": {
   "codemirror_mode": {
    "name": "ipython",
    "version": 3
   },
   "file_extension": ".py",
   "mimetype": "text/x-python",
   "name": "python",
   "nbconvert_exporter": "python",
   "pygments_lexer": "ipython3",
   "version": "3.12.5"
  }
 },
 "nbformat": 4,
 "nbformat_minor": 5
}
