{
 "cells": [
  {
   "cell_type": "markdown",
   "id": "654deb5d-6359-4243-b574-1ca3ae809b37",
   "metadata": {},
   "source": [
    "# Conditionals\n",
    "\n",
    "### Loop recap"
   ]
  },
  {
   "cell_type": "code",
   "execution_count": 1,
   "id": "5748d26a-5574-4c96-bd54-a26d6fe6748e",
   "metadata": {},
   "outputs": [
    {
     "name": "stdout",
     "output_type": "stream",
     "text": [
      "50.0\n",
      "100.0\n",
      "25.0\n"
     ]
    }
   ],
   "source": [
    "all_elevations = [100, 200, 50]\n",
    "for elevation in all_elevations:\n",
    "    new_elevation = elevation/2\n",
    "    print(new_elevation)"
   ]
  },
  {
   "cell_type": "code",
   "execution_count": 2,
   "id": "906abf45-d582-4252-ae3e-caa005b40c8c",
   "metadata": {},
   "outputs": [
    {
     "name": "stdout",
     "output_type": "stream",
     "text": [
      "50\n"
     ]
    }
   ],
   "source": [
    "print(elevation)"
   ]
  },
  {
   "cell_type": "code",
   "execution_count": 3,
   "id": "dee551d5-3b2b-4076-bbd0-ca8702822478",
   "metadata": {},
   "outputs": [
    {
     "name": "stdout",
     "output_type": "stream",
     "text": [
      "25.0\n"
     ]
    }
   ],
   "source": [
    "print(new_elevation)"
   ]
  },
  {
   "cell_type": "code",
   "execution_count": 6,
   "id": "7412178e-e006-462e-9f97-899952337e7a",
   "metadata": {},
   "outputs": [
    {
     "name": "stdout",
     "output_type": "stream",
     "text": [
      "50\n",
      "100\n",
      "25\n",
      "2\n",
      "[50, 100, 25, 2]\n"
     ]
    }
   ],
   "source": [
    "all_elevations = [100, 200, 50, 5]\n",
    "elevation_results = []\n",
    "for elevation in all_elevations:\n",
    "    new_elevation = elevation/2\n",
    "    print(new_elevation)\n",
    "    elevation_results.append(new_elevation)\n",
    "\n",
    "print(elevation_results)\n",
    "\n",
    "# / will make number a float\n",
    "# // forces number to be an integer\n",
    "\n"
   ]
  },
  {
   "cell_type": "markdown",
   "id": "251ee7e6-aeaa-45ae-a028-7dd3466b927b",
   "metadata": {},
   "source": [
    "### Conditionals"
   ]
  },
  {
   "cell_type": "code",
   "execution_count": 7,
   "id": "a6178aa6-1f34-4cb0-943c-4ebce4a59627",
   "metadata": {},
   "outputs": [
    {
     "name": "stdout",
     "output_type": "stream",
     "text": [
      "100 is high\n"
     ]
    }
   ],
   "source": [
    "elevation = 100\n",
    "\n",
    "if elevation > 10:\n",
    "    print(elevation, 'is high')"
   ]
  },
  {
   "cell_type": "code",
   "execution_count": 8,
   "id": "ff50732d-3e24-4bb4-b5c4-c437f3b035d2",
   "metadata": {},
   "outputs": [],
   "source": [
    "elevation = 0\n",
    "if elevation > 10:\n",
    "    print(elevation, 'is high')"
   ]
  },
  {
   "cell_type": "code",
   "execution_count": 10,
   "id": "3db64845-27d9-4aa4-af17-1a6d8f57ceb8",
   "metadata": {},
   "outputs": [
    {
     "name": "stdout",
     "output_type": "stream",
     "text": [
      "200\n",
      "200 is high\n",
      "100\n",
      "100 is high\n",
      "5\n",
      "1\n"
     ]
    }
   ],
   "source": [
    "all_elevations = [200, 100, 5, 1]\n",
    "for elevation in all_elevations:\n",
    "    print(elevation)\n",
    "    if elevation > 10:\n",
    "        print(elevation, 'is high')"
   ]
  },
  {
   "cell_type": "code",
   "execution_count": 11,
   "id": "f3dd0b43-299a-41ff-9dd9-9a189257abf9",
   "metadata": {},
   "outputs": [
    {
     "name": "stdout",
     "output_type": "stream",
     "text": [
      "200\n",
      "200 is high\n",
      "100\n",
      "100 is high\n",
      "5\n",
      "5 is low\n",
      "1\n",
      "1 is low\n"
     ]
    }
   ],
   "source": [
    "all_elevations = [200, 100, 5, 1]\n",
    "for elevation in all_elevations:\n",
    "    print(elevation)\n",
    "    if elevation > 10:\n",
    "        print(elevation, 'is high')\n",
    "    else:\n",
    "        print(elevation, 'is low')\n"
   ]
  },
  {
   "cell_type": "code",
   "execution_count": 12,
   "id": "8c61efca-eefe-4ba0-91a9-1ba80babd7fa",
   "metadata": {},
   "outputs": [
    {
     "name": "stdout",
     "output_type": "stream",
     "text": [
      "200\n",
      "200 is high\n",
      "100\n",
      "100 is high\n",
      "5\n",
      "5 is small\n",
      "1\n",
      "1 is small\n"
     ]
    }
   ],
   "source": [
    "all_elevation = [200, 100, 5, 1]\n",
    "# our elif statement is not reached\n",
    "for elevation in all_elevations:\n",
    "    print(elevation)\n",
    "    if elevation > 10:\n",
    "        print(elevation, 'is high')\n",
    "    elif elevation > 100:\n",
    "        print(elevation, 'is huge!')\n",
    "    else:\n",
    "        print(elevation, 'is small')"
   ]
  },
  {
   "cell_type": "code",
   "execution_count": 13,
   "id": "6e5ce606-cc29-452e-a1cf-b42a3dee8909",
   "metadata": {},
   "outputs": [
    {
     "name": "stdout",
     "output_type": "stream",
     "text": [
      "200\n",
      "200 is huge!\n",
      "100\n",
      "100 is high\n",
      "5\n",
      "5 is small\n",
      "1\n",
      "1 is small\n"
     ]
    }
   ],
   "source": [
    "all_elevation = [200, 100, 5, 1]\n",
    "for elevation in all_elevations:\n",
    "    print(elevation)\n",
    "    if elevation > 100:\n",
    "        print(elevation, 'is huge!')\n",
    "    elif elevation > 10:\n",
    "        print(elevation, 'is high')\n",
    "    else:\n",
    "        print(elevation, 'is small')"
   ]
  },
  {
   "cell_type": "code",
   "execution_count": 14,
   "id": "bd2515c3-2890-4cff-8afc-ccaf13c8ed5b",
   "metadata": {},
   "outputs": [
    {
     "name": "stdout",
     "output_type": "stream",
     "text": [
      "200\n",
      "200 is huge!\n",
      "200 is high\n",
      "100\n",
      "100 is high\n",
      "5\n",
      "1\n"
     ]
    }
   ],
   "source": [
    "for elevation in all_elevations:\n",
    "    print(elevation)\n",
    "    if elevation > 100:\n",
    "        print(elevation, 'is huge!')\n",
    "\n",
    "    if elevation > 10:\n",
    "        print(elevation, 'is high')"
   ]
  },
  {
   "cell_type": "code",
   "execution_count": 16,
   "id": "10658811-2328-480b-8f76-b3a16ffa7de7",
   "metadata": {},
   "outputs": [
    {
     "name": "stdout",
     "output_type": "stream",
     "text": [
      "5\n",
      "100\n",
      "10\n",
      "20\n",
      "75\n",
      "85\n",
      "200\n",
      "400\n",
      "['low', 'high', 'low', 'low', 'medium', 'medium', 'high', 'high']\n"
     ]
    }
   ],
   "source": [
    "# Categorise numbers using if statements and loops\n",
    "all_elevations = [5, 100, 10, 20, 75, 85, 200, 400]\n",
    "elevation_results = []\n",
    "\n",
    "for elevation in all_elevations:\n",
    "    print(elevation)\n",
    "    if elevation >= 100:\n",
    "        elevation_results.append(\"high\")\n",
    "    elif elevation < 100 and elevation >= 50:\n",
    "        # The elevation < 100 is actually not needed\n",
    "        # We already checked if elevation was > 100\n",
    "        elevation_results.append(\"medium\")\n",
    "    else:\n",
    "        elevation_results.append(\"low\")\n",
    "\n",
    "print(elevation_results)\n",
    "        \n",
    "    "
   ]
  },
  {
   "cell_type": "code",
   "execution_count": 18,
   "id": "1558590f-b1cf-444c-9f1f-eedd6852a5d1",
   "metadata": {},
   "outputs": [
    {
     "name": "stdout",
     "output_type": "stream",
     "text": [
      "[0, 1, 1, 0, 1]\n"
     ]
    }
   ],
   "source": [
    "original = [-1.5, 0.2, 0.4, -1.3, 0.5]\n",
    "# 0 if number is below 0, 1 if number is above 0\n",
    "binary_result = []\n",
    "for number in original:\n",
    "    if number > 0:\n",
    "        binary_result.append(1)\n",
    "    else:\n",
    "        binary_result.append(0)\n",
    "\n",
    "print(binary_result)\n",
    "# Store in list if complicated"
   ]
  },
  {
   "cell_type": "code",
   "execution_count": null,
   "id": "8eef0c52-4319-41f8-8db7-6166cca1269c",
   "metadata": {},
   "outputs": [],
   "source": [
    "original = [-1.5, 0.2, 0.4, 1.3, 0.5]\n",
    "binary_result = []\n",
    "\n",
    "for numbers in original:\n",
    "    if number < 0 :\n",
    "        binary_result.append (0)\n",
    "    else:\n",
    "        number > 0 :\n",
    "        binary_result.append (1)\n",
    "\n",
    "print (binary_result)"
   ]
  }
 ],
 "metadata": {
  "kernelspec": {
   "display_name": "Python 3 (ipykernel)",
   "language": "python",
   "name": "python3"
  },
  "language_info": {
   "codemirror_mode": {
    "name": "ipython",
    "version": 3
   },
   "file_extension": ".py",
   "mimetype": "text/x-python",
   "name": "python",
   "nbconvert_exporter": "python",
   "pygments_lexer": "ipython3",
   "version": "3.12.5"
  }
 },
 "nbformat": 4,
 "nbformat_minor": 5
}
