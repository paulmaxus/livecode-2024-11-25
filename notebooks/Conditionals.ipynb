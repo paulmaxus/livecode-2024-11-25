{
 "cells": [
  {
   "cell_type": "markdown",
   "id": "654deb5d-6359-4243-b574-1ca3ae809b37",
   "metadata": {},
   "source": [
    "# Conditionals"
   ]
  },
  {
   "cell_type": "code",
   "execution_count": 1,
   "id": "5748d26a-5574-4c96-bd54-a26d6fe6748e",
   "metadata": {},
   "outputs": [
    {
     "name": "stdout",
     "output_type": "stream",
     "text": [
      "50.0\n",
      "100.0\n",
      "25.0\n"
     ]
    }
   ],
   "source": [
    "all_elevations = [100, 200, 50]\n",
    "for elevation in all_elevations:\n",
    "    new_elevation = elevation/2\n",
    "    print(new_elevation)"
   ]
  },
  {
   "cell_type": "code",
   "execution_count": 2,
   "id": "906abf45-d582-4252-ae3e-caa005b40c8c",
   "metadata": {},
   "outputs": [
    {
     "name": "stdout",
     "output_type": "stream",
     "text": [
      "50\n"
     ]
    }
   ],
   "source": [
    "print(elevation)"
   ]
  },
  {
   "cell_type": "code",
   "execution_count": 3,
   "id": "dee551d5-3b2b-4076-bbd0-ca8702822478",
   "metadata": {},
   "outputs": [
    {
     "name": "stdout",
     "output_type": "stream",
     "text": [
      "25.0\n"
     ]
    }
   ],
   "source": [
    "print(new_elevation)"
   ]
  },
  {
   "cell_type": "code",
   "execution_count": null,
   "id": "7412178e-e006-462e-9f97-899952337e7a",
   "metadata": {},
   "outputs": [],
   "source": [
    "all_elevations = [100, 200, 50]\n",
    "elevation_results = []"
   ]
  }
 ],
 "metadata": {
  "kernelspec": {
   "display_name": "Python 3 (ipykernel)",
   "language": "python",
   "name": "python3"
  },
  "language_info": {
   "codemirror_mode": {
    "name": "ipython",
    "version": 3
   },
   "file_extension": ".py",
   "mimetype": "text/x-python",
   "name": "python",
   "nbconvert_exporter": "python",
   "pygments_lexer": "ipython3",
   "version": "3.12.5"
  }
 },
 "nbformat": 4,
 "nbformat_minor": 5
}
