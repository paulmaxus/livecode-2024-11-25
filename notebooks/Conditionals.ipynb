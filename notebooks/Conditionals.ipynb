{
 "cells": [
  {
   "cell_type": "markdown",
   "id": "654deb5d-6359-4243-b574-1ca3ae809b37",
   "metadata": {},
   "source": [
    "# Conditionals"
   ]
  },
  {
   "cell_type": "code",
   "execution_count": null,
   "id": "5748d26a-5574-4c96-bd54-a26d6fe6748e",
   "metadata": {},
   "outputs": [],
   "source": [
    "all_elevations = [100, 200, 50]\n",
    "for elevation in all_elevations:\n",
    "    new_elevation = elevation/2\n",
    "    print(new_elevation)"
   ]
  }
 ],
 "metadata": {
  "kernelspec": {
   "display_name": "Python 3 (ipykernel)",
   "language": "python",
   "name": "python3"
  },
  "language_info": {
   "codemirror_mode": {
    "name": "ipython",
    "version": 3
   },
   "file_extension": ".py",
   "mimetype": "text/x-python",
   "name": "python",
   "nbconvert_exporter": "python",
   "pygments_lexer": "ipython3",
   "version": "3.12.5"
  }
 },
 "nbformat": 4,
 "nbformat_minor": 5
}
